{
 "cells": [
  {
   "cell_type": "markdown",
   "metadata": {},
   "source": [
    "# Analyse correlations and select features\n",
    "We want to get an overview about the covariates to make and check assumptions about the SCHUFA-based data generating process. Then we want to select the most fitting transformations of the features."
   ]
  },
  {
   "cell_type": "code",
   "execution_count": 1,
   "metadata": {},
   "outputs": [],
   "source": [
    "import pandas as pd\n",
    "import numpy as np\n",
    "import matplotlib.pyplot as plt"
   ]
  },
  {
   "cell_type": "code",
   "execution_count": 2,
   "metadata": {},
   "outputs": [],
   "source": [
    "data_path = \"/media/veracrypt1/SPON_dataset_tables/\"\n",
    "plot_path = \"plots/\""
   ]
  },
  {
   "cell_type": "code",
   "execution_count": 3,
   "metadata": {},
   "outputs": [],
   "source": [
    "table2 = pd.read_csv(data_path + \"datasets_v2/20190703_analysis_dataset_versandbank_final_cleaned.csv\", sep=\";\")"
   ]
  },
  {
   "cell_type": "code",
   "execution_count": 4,
   "metadata": {},
   "outputs": [],
   "source": [
    "def prepare_type(df_data):\n",
    "    # Nominal features\n",
    "    df_data[\"sex\"] = df_data[\"sex\"].astype(\"category\")\n",
    "    df_data[\"familyStatus\"] = df_data[\"familyStatus\"].astype(\"category\")\n",
    "    df_data[\"employment\"] = df_data[\"employment\"].astype(\"category\")\n",
    "    df_data[\"housing\"] = df_data[\"housing\"].astype(\"category\")\n",
    "    df_data[\"east_west\"] = df_data[\"east_west\"].astype(\"category\")\n",
    "\n",
    "    # Ordinal features\n",
    "    cat_ordtype = pd.api.types.CategoricalDtype(categories=[500, 1000, 2000, 3000, 4000, 5000], ordered=True)\n",
    "\n",
    "    df_data[\"monthlyIncome\"] = df_data[\"monthlyIncome\"].astype(cat_ordtype)\n",
    "    df_data[\"activeLoanAmount\"] = df_data[\"activeLoanAmount\"].astype(cat_ordtype)\n",
    "    df_data[\"paidOffLoanAmount\"] = df_data[\"paidOffLoanAmount\"].astype(cat_ordtype)\n",
    "    \n",
    "    return df_data"
   ]
  },
  {
   "cell_type": "code",
   "execution_count": 6,
   "metadata": {},
   "outputs": [],
   "source": [
    "table2 = prepare_type(table2)"
   ]
  },
  {
   "cell_type": "code",
   "execution_count": 7,
   "metadata": {},
   "outputs": [],
   "source": [
    "# As an example we use versandhandel V1\n",
    "domain = \"Versandhandel\"\n",
    "version = 1\n",
    "\n",
    "df_data = table2[(table2[\"domain\"]==domain) & (table2[\"version\"]==version)]"
   ]
  },
  {
   "cell_type": "markdown",
   "metadata": {},
   "source": [
    "## Feature selection - LASSO Regression"
   ]
  },
  {
   "cell_type": "code",
   "execution_count": 8,
   "metadata": {},
   "outputs": [
    {
     "data": {
      "text/plain": [
       "Index(['id', 'date', 'table', 'customer', 'feature', 'domain', 'version',\n",
       "       'score', 'value', 'level', 'meaning', 'stoerung', 'kredit_jahr',\n",
       "       'kredit_nutzung', 'kredit_historie', 'allgemein', 'anschrift',\n",
       "       'all_columns_text', 'activeLoanAmount', 'admonition', 'cashing',\n",
       "       'employment', 'executionProceedings', 'familyStatus', 'housing',\n",
       "       'insolvencyProceedings', 'mailOrder', 'migrationBackground',\n",
       "       'monthlyIncome', 'numberOfActiveLoans', 'numberOfChildren',\n",
       "       'numberOfCreditCards', 'numberOfGiroAccounts',\n",
       "       'numberOfMobileContracts', 'numberOfPaidOffLoans', 'paidOffLoanAmount',\n",
       "       'plz', 'relocation', 'schufaDate', 'sex', 'yearOfBirth', 'foreigner',\n",
       "       'basisscore', 'plz_one', 'east_west', 'age', 'age_class', 'age_gen',\n",
       "       'request', 'banking_connection', 'business_relation', 'conditions',\n",
       "       'credit_card', 'giro', 'global_credit', 'identity', 'secured_loan',\n",
       "       'solvency', 'telecom', 'unsecured_loan', 'Banken_req',\n",
       "       'Freiberufler_req', 'Genossenschaftsbanken_req', 'Handel_req',\n",
       "       'Hypothekengeschäft_req', 'Kleingewerbetreibende_req', 'Sparkassen_req',\n",
       "       'Sparkassen/Genossenschaftsbanken_req',\n",
       "       'Telekommunikationsunternehmen_req', 'Versandhandel_req', 'credit_days',\n",
       "       'credit_card_days', 'giro_days', 'finance_year'],\n",
       "      dtype='object')"
      ]
     },
     "execution_count": 8,
     "metadata": {},
     "output_type": "execute_result"
    }
   ],
   "source": [
    "df_data.columns"
   ]
  },
  {
   "cell_type": "code",
   "execution_count": 11,
   "metadata": {},
   "outputs": [
    {
     "data": {
      "text/plain": [
       "Index(['request', 'banking_connection', 'business_relation', 'conditions',\n",
       "       'credit_card', 'giro', 'global_credit', 'identity', 'secured_loan',\n",
       "       'solvency', 'telecom', 'unsecured_loan', 'Banken_req',\n",
       "       'Freiberufler_req', 'Genossenschaftsbanken_req', 'Handel_req',\n",
       "       'Hypothekengeschäft_req', 'Kleingewerbetreibende_req', 'Sparkassen_req',\n",
       "       'Sparkassen/Genossenschaftsbanken_req',\n",
       "       'Telekommunikationsunternehmen_req', 'Versandhandel_req', 'credit_days',\n",
       "       'credit_card_days', 'giro_days', 'finance_year'],\n",
       "      dtype='object')"
      ]
     },
     "execution_count": 11,
     "metadata": {},
     "output_type": "execute_result"
    }
   ],
   "source": [
    "df_data.iloc[:, -26:].columns"
   ]
  },
  {
   "cell_type": "code",
   "execution_count": 12,
   "metadata": {},
   "outputs": [
    {
     "name": "stderr",
     "output_type": "stream",
     "text": [
      "/home/phil/anaconda3/lib/python3.7/site-packages/pandas/core/indexing.py:543: SettingWithCopyWarning: \n",
      "A value is trying to be set on a copy of a slice from a DataFrame.\n",
      "Try using .loc[row_indexer,col_indexer] = value instead\n",
      "\n",
      "See the caveats in the documentation: http://pandas.pydata.org/pandas-docs/stable/indexing.html#indexing-view-versus-copy\n",
      "  self.obj[item] = s\n"
     ]
    }
   ],
   "source": [
    "df_data.iloc[:, -26:] = df_data.iloc[:, -26:].fillna(0)"
   ]
  },
  {
   "cell_type": "code",
   "execution_count": 27,
   "metadata": {},
   "outputs": [],
   "source": [
    "def get_feature_lists(domain):\n",
    "    # Separate Columns into data types as well as predictors and target\n",
    "\n",
    "    nominal = [\"sex\", \"east_west\", \"mailOrder\"]\n",
    "    nom_idx = len(nominal)\n",
    "\n",
    "    metric = ['monthlyIncome', 'age', 'relocation', # questionnaire data\n",
    "              'request', 'banking_connection', 'business_relation', 'conditions',\n",
    "              'credit_card', 'giro', 'global_credit', 'identity', 'secured_loan',\n",
    "              'solvency', 'telecom', 'unsecured_loan', # feature counts\n",
    "              domain+'_req', 'finance_year', # request/time counts\n",
    "              'credit_days', 'credit_card_days', 'giro_days'] # time-based\n",
    "\n",
    "    target = [\"score\"]\n",
    "\n",
    "\n",
    "\n",
    "    # Separate Columns into counts (discrete with zero-inflation) and non-counts\n",
    "\n",
    "    counts = ['relocation', \n",
    "              'request', 'banking_connection', 'business_relation', 'conditions',\n",
    "              'credit_card', 'giro', 'global_credit', 'identity', 'secured_loan',\n",
    "              'solvency', 'telecom', 'unsecured_loan',\n",
    "              domain+'_req', 'finance_year']\n",
    "\n",
    "    non_counts = [\"female\", \"east\", \"mailOrder\",\n",
    "                  'monthlyIncome', 'age', \n",
    "                  'credit_days', 'credit_card_days', 'giro_days']\n",
    "    \n",
    "    return nominal, nom_idx, metric, target, counts, non_counts"
   ]
  },
  {
   "cell_type": "code",
   "execution_count": 186,
   "metadata": {},
   "outputs": [
    {
     "name": "stdout",
     "output_type": "stream",
     "text": [
      "(1615, 24)\n",
      "(1255, 24)\n"
     ]
    }
   ],
   "source": [
    "df_data.iloc[:, -26:] = df_data.iloc[:, -26:].fillna(0)\n",
    "\n",
    "nominal, nom_idx, metric, target, counts, non_counts = get_feature_lists(domain)\n",
    "relevant_feats = target + nominal + metric\n",
    "\n",
    "Xy = df_data[relevant_feats]\n",
    "print(Xy.shape)\n",
    "Xy = Xy.dropna()\n",
    "print(Xy.shape)"
   ]
  },
  {
   "cell_type": "code",
   "execution_count": 187,
   "metadata": {},
   "outputs": [
    {
     "data": {
      "text/plain": [
       "(['age',\n",
       "  'relocation',\n",
       "  'request',\n",
       "  'banking_connection',\n",
       "  'business_relation',\n",
       "  'conditions',\n",
       "  'credit_card',\n",
       "  'giro',\n",
       "  'global_credit',\n",
       "  'identity',\n",
       "  'secured_loan',\n",
       "  'solvency',\n",
       "  'telecom',\n",
       "  'unsecured_loan',\n",
       "  'Versandhandel_req',\n",
       "  'finance_year',\n",
       "  'credit_days',\n",
       "  'credit_card_days',\n",
       "  'giro_days'],\n",
       " ['sex', 'east_west', 'mailOrder', 'monthlyIncome'])"
      ]
     },
     "execution_count": 187,
     "metadata": {},
     "output_type": "execute_result"
    }
   ],
   "source": [
    "metric.remove(\"monthlyIncome\")\n",
    "nominal += [\"monthlyIncome\"]\n",
    "metric, nominal"
   ]
  },
  {
   "cell_type": "code",
   "execution_count": 188,
   "metadata": {},
   "outputs": [],
   "source": [
    "df_metric = Xy[metric] # [:, (nom_idx+1):]\n",
    "df_nominal = Xy[nominal] # [:, 1:(nom_idx+1)]\n",
    "y = Xy[target] # [:, 0]"
   ]
  },
  {
   "cell_type": "code",
   "execution_count": 189,
   "metadata": {},
   "outputs": [],
   "source": [
    "# Code nominal feature\n",
    "df_female = pd.get_dummies(df_nominal.sex.astype(\"category\"))[\"female\"].reset_index(drop=True).to_frame()\n",
    "df_east = pd.get_dummies(df_nominal.east_west.astype(\"category\"))[\"east\"].reset_index(drop=True).to_frame()\n",
    "df_mail = df_nominal.mailOrder.astype(int).reset_index(drop=True).to_frame()\n",
    "df_monthlyIncome = df_nominal.monthlyIncome.reset_index(drop=True).cat.codes.to_frame()\n",
    "df_monthlyIncome.columns = [\"monthlyIncome\"]\n",
    "\n",
    "df_nominal = pd.concat([df_female, df_east, df_mail, df_monthlyIncome], axis=1)"
   ]
  },
  {
   "cell_type": "code",
   "execution_count": 190,
   "metadata": {},
   "outputs": [],
   "source": [
    "# Expand metric features\n",
    "poly_2 = df_metric.apply(lambda x: x**2)\n",
    "poly_2.columns = poly_2.columns + \"_**2\"\n",
    "\n",
    "poly_3 = df_metric.apply(lambda x: x**3)\n",
    "poly_3.columns = poly_3.columns + \"_**3\"\n",
    "\n",
    "log_2 = df_metric.apply(lambda x: np.log(x+1))\n",
    "log_2.columns = log_2.columns + \"_log2\""
   ]
  },
  {
   "cell_type": "code",
   "execution_count": 191,
   "metadata": {},
   "outputs": [],
   "source": [
    "# Compute interaction terms\n",
    "\n",
    "interactions = pd.DataFrame(index = df_metric.index)\n",
    "\n",
    "for idx, feat in enumerate(df_metric.columns):\n",
    "    for interact in df_metric.columns[idx+1:]:\n",
    "        interactions[feat+\"*\"+interact] = df_metric[feat]*df_metric[interact]"
   ]
  },
  {
   "cell_type": "code",
   "execution_count": 192,
   "metadata": {},
   "outputs": [
    {
     "data": {
      "text/plain": [
       "Index(['score', 'age', 'relocation', 'request', 'banking_connection',\n",
       "       'business_relation', 'conditions', 'credit_card', 'giro',\n",
       "       'global_credit',\n",
       "       ...\n",
       "       'Versandhandel_req*finance_year', 'Versandhandel_req*credit_days',\n",
       "       'Versandhandel_req*credit_card_days', 'Versandhandel_req*giro_days',\n",
       "       'finance_year*credit_days', 'finance_year*credit_card_days',\n",
       "       'finance_year*giro_days', 'credit_days*credit_card_days',\n",
       "       'credit_days*giro_days', 'credit_card_days*giro_days'],\n",
       "      dtype='object', length=248)"
      ]
     },
     "execution_count": 192,
     "metadata": {},
     "output_type": "execute_result"
    }
   ],
   "source": [
    "# append features\n",
    "#metric_Xy = pd.concat([y, metric, poly_2], axis=1)\n",
    "\n",
    "metric_Xy = pd.concat([y, df_metric, poly_2, poly_3, log_2, interactions], axis=1)\n",
    "metric_Xy_nointeract = pd.concat([y, df_metric, poly_2, poly_3, log_2], axis=1)\n",
    "metric_Xy_onlyinteract = pd.concat([y, df_metric, interactions], axis=1)\n",
    "\n",
    "metric_Xy.columns"
   ]
  },
  {
   "cell_type": "code",
   "execution_count": 193,
   "metadata": {},
   "outputs": [],
   "source": [
    "# scale metric features\n",
    "from sklearn.preprocessing import StandardScaler\n",
    "\n",
    "scaler = StandardScaler()\n",
    "\n",
    "metric_Xy_scaled = pd.DataFrame(scaler.fit_transform(metric_Xy), columns=metric_Xy.columns)\n",
    "\n",
    "metric_Xy_nointeract_scaled = pd.DataFrame(scaler.fit_transform(metric_Xy_nointeract), columns=metric_Xy_nointeract.columns)\n",
    "\n",
    "metric_Xy_onlyinteract_scaled = pd.DataFrame(scaler.fit_transform(metric_Xy_onlyinteract), columns=metric_Xy_onlyinteract.columns)"
   ]
  },
  {
   "cell_type": "code",
   "execution_count": 194,
   "metadata": {},
   "outputs": [],
   "source": [
    "# concatenate all features and separate y\n",
    "y_scaled = metric_Xy_scaled[\"score\"]\n",
    "X_scaled = pd.concat([df_nominal, metric_Xy_scaled.iloc[:,1:]], axis=1)\n",
    "\n",
    "y_scaled_nointeract = metric_Xy_nointeract_scaled[\"score\"]\n",
    "X_scaled_nointeract = pd.concat([df_nominal, metric_Xy_nointeract_scaled.iloc[:,1:]], axis=1)\n",
    "\n",
    "y_scaled_onlyinteract = metric_Xy_onlyinteract_scaled[\"score\"]\n",
    "X_scaled_onlyinteract = pd.concat([df_nominal, metric_Xy_onlyinteract_scaled.iloc[:,1:]], axis=1)"
   ]
  },
  {
   "cell_type": "code",
   "execution_count": 195,
   "metadata": {},
   "outputs": [
    {
     "data": {
      "text/html": [
       "<div>\n",
       "<style scoped>\n",
       "    .dataframe tbody tr th:only-of-type {\n",
       "        vertical-align: middle;\n",
       "    }\n",
       "\n",
       "    .dataframe tbody tr th {\n",
       "        vertical-align: top;\n",
       "    }\n",
       "\n",
       "    .dataframe thead th {\n",
       "        text-align: right;\n",
       "    }\n",
       "</style>\n",
       "<table border=\"1\" class=\"dataframe\">\n",
       "  <thead>\n",
       "    <tr style=\"text-align: right;\">\n",
       "      <th></th>\n",
       "      <th>female</th>\n",
       "      <th>east</th>\n",
       "      <th>mailOrder</th>\n",
       "      <th>monthlyIncome</th>\n",
       "      <th>age</th>\n",
       "      <th>relocation</th>\n",
       "      <th>request</th>\n",
       "      <th>banking_connection</th>\n",
       "      <th>business_relation</th>\n",
       "      <th>conditions</th>\n",
       "      <th>...</th>\n",
       "      <th>Versandhandel_req*finance_year</th>\n",
       "      <th>Versandhandel_req*credit_days</th>\n",
       "      <th>Versandhandel_req*credit_card_days</th>\n",
       "      <th>Versandhandel_req*giro_days</th>\n",
       "      <th>finance_year*credit_days</th>\n",
       "      <th>finance_year*credit_card_days</th>\n",
       "      <th>finance_year*giro_days</th>\n",
       "      <th>credit_days*credit_card_days</th>\n",
       "      <th>credit_days*giro_days</th>\n",
       "      <th>credit_card_days*giro_days</th>\n",
       "    </tr>\n",
       "  </thead>\n",
       "  <tbody>\n",
       "    <tr>\n",
       "      <th>0</th>\n",
       "      <td>0</td>\n",
       "      <td>0</td>\n",
       "      <td>0</td>\n",
       "      <td>5</td>\n",
       "      <td>1.271940</td>\n",
       "      <td>-1.173579</td>\n",
       "      <td>0.091137</td>\n",
       "      <td>-0.240485</td>\n",
       "      <td>-0.242289</td>\n",
       "      <td>-0.255848</td>\n",
       "      <td>...</td>\n",
       "      <td>-0.165536</td>\n",
       "      <td>-0.130945</td>\n",
       "      <td>-0.179498</td>\n",
       "      <td>-0.233176</td>\n",
       "      <td>-0.241682</td>\n",
       "      <td>-0.305036</td>\n",
       "      <td>-0.360148</td>\n",
       "      <td>-0.296498</td>\n",
       "      <td>-0.330628</td>\n",
       "      <td>-0.613157</td>\n",
       "    </tr>\n",
       "    <tr>\n",
       "      <th>1</th>\n",
       "      <td>0</td>\n",
       "      <td>0</td>\n",
       "      <td>1</td>\n",
       "      <td>2</td>\n",
       "      <td>1.465971</td>\n",
       "      <td>-0.570203</td>\n",
       "      <td>-0.599268</td>\n",
       "      <td>3.440105</td>\n",
       "      <td>-0.242289</td>\n",
       "      <td>-0.255848</td>\n",
       "      <td>...</td>\n",
       "      <td>-0.165536</td>\n",
       "      <td>-0.130945</td>\n",
       "      <td>-0.179498</td>\n",
       "      <td>-0.233176</td>\n",
       "      <td>-0.241682</td>\n",
       "      <td>-0.305036</td>\n",
       "      <td>-0.360148</td>\n",
       "      <td>-0.296498</td>\n",
       "      <td>-0.330628</td>\n",
       "      <td>-0.613157</td>\n",
       "    </tr>\n",
       "    <tr>\n",
       "      <th>2</th>\n",
       "      <td>0</td>\n",
       "      <td>0</td>\n",
       "      <td>1</td>\n",
       "      <td>3</td>\n",
       "      <td>-0.571345</td>\n",
       "      <td>0.033174</td>\n",
       "      <td>0.551407</td>\n",
       "      <td>-0.240485</td>\n",
       "      <td>-0.242289</td>\n",
       "      <td>1.534610</td>\n",
       "      <td>...</td>\n",
       "      <td>-0.165536</td>\n",
       "      <td>-0.130945</td>\n",
       "      <td>-0.179498</td>\n",
       "      <td>-0.233176</td>\n",
       "      <td>-0.241682</td>\n",
       "      <td>-0.115318</td>\n",
       "      <td>4.222819</td>\n",
       "      <td>-0.296498</td>\n",
       "      <td>-0.330628</td>\n",
       "      <td>-0.546080</td>\n",
       "    </tr>\n",
       "    <tr>\n",
       "      <th>3</th>\n",
       "      <td>0</td>\n",
       "      <td>0</td>\n",
       "      <td>1</td>\n",
       "      <td>3</td>\n",
       "      <td>-0.765375</td>\n",
       "      <td>0.033174</td>\n",
       "      <td>4.693837</td>\n",
       "      <td>-0.240485</td>\n",
       "      <td>-0.242289</td>\n",
       "      <td>-0.255848</td>\n",
       "      <td>...</td>\n",
       "      <td>-0.165536</td>\n",
       "      <td>-0.130945</td>\n",
       "      <td>-0.179498</td>\n",
       "      <td>-0.233176</td>\n",
       "      <td>-0.241682</td>\n",
       "      <td>-0.305036</td>\n",
       "      <td>-0.360148</td>\n",
       "      <td>-0.296498</td>\n",
       "      <td>-0.330628</td>\n",
       "      <td>-0.613157</td>\n",
       "    </tr>\n",
       "    <tr>\n",
       "      <th>4</th>\n",
       "      <td>0</td>\n",
       "      <td>0</td>\n",
       "      <td>1</td>\n",
       "      <td>3</td>\n",
       "      <td>-0.474330</td>\n",
       "      <td>0.636550</td>\n",
       "      <td>-0.599268</td>\n",
       "      <td>-0.240485</td>\n",
       "      <td>-0.242289</td>\n",
       "      <td>-0.255848</td>\n",
       "      <td>...</td>\n",
       "      <td>-0.165536</td>\n",
       "      <td>-0.130945</td>\n",
       "      <td>-0.179498</td>\n",
       "      <td>-0.233176</td>\n",
       "      <td>-0.241682</td>\n",
       "      <td>-0.305036</td>\n",
       "      <td>-0.360148</td>\n",
       "      <td>-0.296498</td>\n",
       "      <td>-0.330628</td>\n",
       "      <td>-0.533154</td>\n",
       "    </tr>\n",
       "  </tbody>\n",
       "</table>\n",
       "<p>5 rows × 251 columns</p>\n",
       "</div>"
      ],
      "text/plain": [
       "   female  east  mailOrder  monthlyIncome       age  relocation   request  \\\n",
       "0       0     0          0              5  1.271940   -1.173579  0.091137   \n",
       "1       0     0          1              2  1.465971   -0.570203 -0.599268   \n",
       "2       0     0          1              3 -0.571345    0.033174  0.551407   \n",
       "3       0     0          1              3 -0.765375    0.033174  4.693837   \n",
       "4       0     0          1              3 -0.474330    0.636550 -0.599268   \n",
       "\n",
       "   banking_connection  business_relation  conditions  \\\n",
       "0           -0.240485          -0.242289   -0.255848   \n",
       "1            3.440105          -0.242289   -0.255848   \n",
       "2           -0.240485          -0.242289    1.534610   \n",
       "3           -0.240485          -0.242289   -0.255848   \n",
       "4           -0.240485          -0.242289   -0.255848   \n",
       "\n",
       "              ...              Versandhandel_req*finance_year  \\\n",
       "0             ...                                   -0.165536   \n",
       "1             ...                                   -0.165536   \n",
       "2             ...                                   -0.165536   \n",
       "3             ...                                   -0.165536   \n",
       "4             ...                                   -0.165536   \n",
       "\n",
       "   Versandhandel_req*credit_days  Versandhandel_req*credit_card_days  \\\n",
       "0                      -0.130945                           -0.179498   \n",
       "1                      -0.130945                           -0.179498   \n",
       "2                      -0.130945                           -0.179498   \n",
       "3                      -0.130945                           -0.179498   \n",
       "4                      -0.130945                           -0.179498   \n",
       "\n",
       "   Versandhandel_req*giro_days  finance_year*credit_days  \\\n",
       "0                    -0.233176                 -0.241682   \n",
       "1                    -0.233176                 -0.241682   \n",
       "2                    -0.233176                 -0.241682   \n",
       "3                    -0.233176                 -0.241682   \n",
       "4                    -0.233176                 -0.241682   \n",
       "\n",
       "   finance_year*credit_card_days  finance_year*giro_days  \\\n",
       "0                      -0.305036               -0.360148   \n",
       "1                      -0.305036               -0.360148   \n",
       "2                      -0.115318                4.222819   \n",
       "3                      -0.305036               -0.360148   \n",
       "4                      -0.305036               -0.360148   \n",
       "\n",
       "   credit_days*credit_card_days  credit_days*giro_days  \\\n",
       "0                     -0.296498              -0.330628   \n",
       "1                     -0.296498              -0.330628   \n",
       "2                     -0.296498              -0.330628   \n",
       "3                     -0.296498              -0.330628   \n",
       "4                     -0.296498              -0.330628   \n",
       "\n",
       "   credit_card_days*giro_days  \n",
       "0                   -0.613157  \n",
       "1                   -0.613157  \n",
       "2                   -0.546080  \n",
       "3                   -0.613157  \n",
       "4                   -0.533154  \n",
       "\n",
       "[5 rows x 251 columns]"
      ]
     },
     "execution_count": 195,
     "metadata": {},
     "output_type": "execute_result"
    }
   ],
   "source": [
    "X_scaled.head(5)"
   ]
  },
  {
   "cell_type": "markdown",
   "metadata": {},
   "source": [
    "### Apply LASSO regression for comparison"
   ]
  },
  {
   "cell_type": "code",
   "execution_count": 196,
   "metadata": {},
   "outputs": [],
   "source": [
    "from sklearn.linear_model import LinearRegression\n",
    "from sklearn.model_selection import cross_validate\n",
    "from sklearn.linear_model import Lasso\n",
    "from sklearn.linear_model import ARDRegression"
   ]
  },
  {
   "cell_type": "code",
   "execution_count": 205,
   "metadata": {},
   "outputs": [
    {
     "name": "stdout",
     "output_type": "stream",
     "text": [
      "0.6641679403717173\n",
      "-2.918622480563186e+18\n"
     ]
    }
   ],
   "source": [
    "# Base-Model: Linear Regression\n",
    "reg = LinearRegression().fit(X_scaled, y_scaled)\n",
    "cv_res = cross_validate(reg, X_scaled, y_scaled, cv=4)\n",
    "print(np.mean(cv_res[\"train_score\"]))\n",
    "print(np.mean(cv_res[\"test_score\"]))"
   ]
  },
  {
   "cell_type": "code",
   "execution_count": 222,
   "metadata": {},
   "outputs": [
    {
     "name": "stdout",
     "output_type": "stream",
     "text": [
      "0.5911426648521534 Alpha: 0.011356996574383093\n"
     ]
    }
   ],
   "source": [
    "# get best model-parameter for every dataset and estimate coefficients \n",
    "from sklearn.linear_model import LassoCV\n",
    "import warnings\n",
    "warnings.filterwarnings(\"ignore\")\n",
    "\n",
    "lreg = LassoCV(cv=4, max_iter=5000, random_state=9001, n_jobs=6)\n",
    "lreg.fit(X_scaled, y_scaled)\n",
    "print(lreg.score(X_scaled, y_scaled), \"Alpha:\", lreg.alpha_)"
   ]
  },
  {
   "cell_type": "code",
   "execution_count": 223,
   "metadata": {},
   "outputs": [
    {
     "data": {
      "text/plain": [
       "0.4517220229138838"
      ]
     },
     "execution_count": 223,
     "metadata": {},
     "output_type": "execute_result"
    }
   ],
   "source": [
    "lreg.mse_path_[lreg.alphas_==lreg.alpha_].sum()/4"
   ]
  },
  {
   "cell_type": "code",
   "execution_count": 224,
   "metadata": {},
   "outputs": [
    {
     "data": {
      "text/plain": [
       "((251, 1), (251,))"
      ]
     },
     "execution_count": 224,
     "metadata": {},
     "output_type": "execute_result"
    }
   ],
   "source": [
    "lreg.coef_.reshape(-1,1).shape, X_scaled.columns.shape"
   ]
  },
  {
   "cell_type": "code",
   "execution_count": 225,
   "metadata": {},
   "outputs": [
    {
     "data": {
      "text/plain": [
       "<matplotlib.axes._subplots.AxesSubplot at 0x7fa773a9e470>"
      ]
     },
     "execution_count": 225,
     "metadata": {},
     "output_type": "execute_result"
    },
    {
     "data": {
      "image/png": "[encoded data removed]",
      "text/plain": [
       "<Figure size 432x288 with 1 Axes>"
      ]
     },
     "metadata": {
      "needs_background": "light"
     },
     "output_type": "display_data"
    }
   ],
   "source": [
    "coefs = pd.DataFrame(lreg.coef_.reshape(-1,1).T, columns=X_scaled.columns).T\n",
    "abs(coefs).sort_values(0, ascending=False).plot()"
   ]
  },
  {
   "cell_type": "code",
   "execution_count": 226,
   "metadata": {},
   "outputs": [
    {
     "data": {
      "text/html": [
       "<div>\n",
       "<style scoped>\n",
       "    .dataframe tbody tr th:only-of-type {\n",
       "        vertical-align: middle;\n",
       "    }\n",
       "\n",
       "    .dataframe tbody tr th {\n",
       "        vertical-align: top;\n",
       "    }\n",
       "\n",
       "    .dataframe thead th {\n",
       "        text-align: right;\n",
       "    }\n",
       "</style>\n",
       "<table border=\"1\" class=\"dataframe\">\n",
       "  <thead>\n",
       "    <tr style=\"text-align: right;\">\n",
       "      <th></th>\n",
       "      <th>0</th>\n",
       "    </tr>\n",
       "  </thead>\n",
       "  <tbody>\n",
       "    <tr>\n",
       "      <th>age_log2</th>\n",
       "      <td>0.369418</td>\n",
       "    </tr>\n",
       "    <tr>\n",
       "      <th>solvency_log2</th>\n",
       "      <td>0.344579</td>\n",
       "    </tr>\n",
       "    <tr>\n",
       "      <th>credit_card_days_log2</th>\n",
       "      <td>0.248665</td>\n",
       "    </tr>\n",
       "    <tr>\n",
       "      <th>female</th>\n",
       "      <td>0.218293</td>\n",
       "    </tr>\n",
       "    <tr>\n",
       "      <th>finance_year_log2</th>\n",
       "      <td>0.191674</td>\n",
       "    </tr>\n",
       "    <tr>\n",
       "      <th>relocation_**2</th>\n",
       "      <td>0.127810</td>\n",
       "    </tr>\n",
       "    <tr>\n",
       "      <th>Versandhandel_req_log2</th>\n",
       "      <td>0.117238</td>\n",
       "    </tr>\n",
       "    <tr>\n",
       "      <th>credit_card_days</th>\n",
       "      <td>0.113125</td>\n",
       "    </tr>\n",
       "    <tr>\n",
       "      <th>credit_card_days_**3</th>\n",
       "      <td>0.075614</td>\n",
       "    </tr>\n",
       "    <tr>\n",
       "      <th>relocation*giro_days</th>\n",
       "      <td>0.074122</td>\n",
       "    </tr>\n",
       "    <tr>\n",
       "      <th>solvency*credit_card_days</th>\n",
       "      <td>0.051015</td>\n",
       "    </tr>\n",
       "    <tr>\n",
       "      <th>request*credit_card_days</th>\n",
       "      <td>0.050276</td>\n",
       "    </tr>\n",
       "    <tr>\n",
       "      <th>age*solvency</th>\n",
       "      <td>0.050063</td>\n",
       "    </tr>\n",
       "  </tbody>\n",
       "</table>\n",
       "</div>"
      ],
      "text/plain": [
       "                                  0\n",
       "age_log2                   0.369418\n",
       "solvency_log2              0.344579\n",
       "credit_card_days_log2      0.248665\n",
       "female                     0.218293\n",
       "finance_year_log2          0.191674\n",
       "relocation_**2             0.127810\n",
       "Versandhandel_req_log2     0.117238\n",
       "credit_card_days           0.113125\n",
       "credit_card_days_**3       0.075614\n",
       "relocation*giro_days       0.074122\n",
       "solvency*credit_card_days  0.051015\n",
       "request*credit_card_days   0.050276\n",
       "age*solvency               0.050063"
      ]
     },
     "execution_count": 226,
     "metadata": {},
     "output_type": "execute_result"
    }
   ],
   "source": [
    "abs(coefs[abs(coefs)[0]>.05]).sort_values(0, ascending=False)"
   ]
  },
  {
   "cell_type": "markdown",
   "metadata": {},
   "source": [
    "### Use Initialization techniques to select features for each domain and version"
   ]
  },
  {
   "cell_type": "code",
   "execution_count": 49,
   "metadata": {},
   "outputs": [],
   "source": [
    "quest_feat = [\"sex\", \"score\", \"age\", \"relocation\"] # east_west, monthlyIncome\n",
    "\n",
    "# We also dont need the features that have been aggregated:\n",
    "# business_credit_card, business_giro, global_credit, line_of_credit, giro, credit_card\n",
    "schufa_feat = ['request', 'address_update', 'banking_connection',\n",
    "               'business_relation', 'conditions', 'identity',\n",
    "               'lease_purchase', 'mail_order', 'permanent_account', \n",
    "               'rent_request', 'secured_loan', 'solvency', 'telecom', 'unsecured_loan', 'giro_aggr',\n",
    "               'credit_card_aggr', 'credit_aggr', 'Versandhandel_req', 'credit_days',\n",
    "               'credit_card_days', 'giro_days']"
   ]
  },
  {
   "cell_type": "code",
   "execution_count": 308,
   "metadata": {},
   "outputs": [
    {
     "name": "stdout",
     "output_type": "stream",
     "text": [
      "Versandhandel 1\n",
      "(1615, 24)\n",
      "(1255, 24)\n",
      "Use LASSO\n",
      "R^2: 0.5755257125978417 alpha: 0.006060887488732292\n",
      "Avg. CV MSE: 0.45071340880955557\n",
      "Versandhandel 2\n",
      "(1664, 24)\n",
      "(1295, 24)\n",
      "Use LASSO\n",
      "R^2: 0.6451196216383179 alpha: 0.0008883203552217811\n",
      "Avg. CV MSE: 0.39812267178538774\n",
      "Versandhandel 3\n",
      "(1671, 24)\n",
      "(1302, 24)\n",
      "Use LASSO\n",
      "R^2: 0.6047661208730735 alpha: 0.0067879515375269045\n",
      "Avg. CV MSE: 0.41993748446800183\n",
      "Banken 1\n",
      "(1633, 24)\n",
      "(1272, 24)\n",
      "Use LASSO\n",
      "R^2: 0.6267109382712683 alpha: 0.000479496584581889\n",
      "Avg. CV MSE: 0.4107620246495121\n",
      "Banken 2\n",
      "(1643, 24)\n",
      "(1289, 24)\n",
      "Use LASSO\n",
      "R^2: 0.6642066938008886 alpha: 0.004089997812172781\n",
      "Avg. CV MSE: 0.36603988703832624\n",
      "Banken 3\n",
      "(1577, 24)\n",
      "(1221, 24)\n",
      "Use LASSO\n",
      "R^2: 0.6131520967266211 alpha: 0.005067138530365093\n",
      "Avg. CV MSE: 0.41171595915139314\n"
     ]
    }
   ],
   "source": [
    "for domain in [\"Versandhandel\", \"Banken\"]:\n",
    "    for version in [1, 2 ,3]:\n",
    "        \n",
    "        print(domain, version)\n",
    "        \n",
    "        df_data = table2[(table2[\"domain\"]==domain) & (table2[\"version\"]==version)]\n",
    "\n",
    "        \n",
    "        df_data.iloc[:, -26:] = df_data.iloc[:, -26:].fillna(0)\n",
    "\n",
    "        nominal, nom_idx, metric, target, counts, non_counts = get_feature_lists(domain)\n",
    "        relevant_feats = target + nominal + metric\n",
    "\n",
    "        Xy = df_data[relevant_feats]\n",
    "        print(Xy.shape)\n",
    "        Xy = Xy.dropna()\n",
    "        print(Xy.shape)\n",
    "\n",
    "        metric.remove(\"monthlyIncome\")\n",
    "        nominal += [\"monthlyIncome\"]\n",
    "        metric, nominal\n",
    "\n",
    "        df_metric = Xy[metric] # [:, (nom_idx+1):]\n",
    "        df_nominal = Xy[nominal] # [:, 1:(nom_idx+1)]\n",
    "        y = Xy[target] # [:, 0]\n",
    "\n",
    "        if version != 1:\n",
    "            y = y.apply(lambda x: 1000-np.log(10000-x)*100)\n",
    "\n",
    "        ############\n",
    "\n",
    "        # Code nominal feature\n",
    "        df_female = pd.get_dummies(df_nominal.sex.astype(\"category\"))[\"female\"].reset_index(drop=True).to_frame()\n",
    "        df_east = pd.get_dummies(df_nominal.east_west.astype(\"category\"))[\"east\"].reset_index(drop=True).to_frame()\n",
    "        df_mail = df_nominal.mailOrder.astype(int).reset_index(drop=True).to_frame()\n",
    "        df_monthlyIncome = df_nominal.monthlyIncome.reset_index(drop=True).cat.codes.to_frame()\n",
    "        df_monthlyIncome.columns = [\"monthlyIncome\"]\n",
    "\n",
    "        df_nominal = pd.concat([df_female, df_east, df_mail, df_monthlyIncome], axis=1)\n",
    "\n",
    "        # Expand metric features\n",
    "        poly_2 = df_metric.apply(lambda x: x**2)\n",
    "        poly_2.columns = poly_2.columns + \"_**2\"\n",
    "\n",
    "        poly_3 = df_metric.apply(lambda x: x**3)\n",
    "        poly_3.columns = poly_3.columns + \"_**3\"\n",
    "\n",
    "        log_2 = df_metric.apply(lambda x: np.log(x+1))\n",
    "        log_2.columns = log_2.columns + \"_log2\"\n",
    "\n",
    "        # Compute interaction terms\n",
    "\n",
    "        interactions = pd.DataFrame(index = df_metric.index)\n",
    "\n",
    "        for idx, feat in enumerate(df_metric.columns):\n",
    "            for interact in df_metric.columns[idx+1:]:\n",
    "                interactions[feat+\"*\"+interact] = df_metric[feat]*df_metric[interact]\n",
    "\n",
    "        ####################################\n",
    "\n",
    "        # append features\n",
    "        #metric_Xy = pd.concat([y, metric, poly_2], axis=1)\n",
    "\n",
    "        metric_Xy = pd.concat([y, df_metric, poly_2, poly_3, log_2, interactions], axis=1)\n",
    "        metric_Xy_nointeract = pd.concat([y, df_metric, poly_2, poly_3, log_2], axis=1)\n",
    "        metric_Xy_onlyinteract = pd.concat([y, df_metric, interactions], axis=1)\n",
    "\n",
    "        metric_Xy.columns\n",
    "\n",
    "        # scale metric features\n",
    "        from sklearn.preprocessing import StandardScaler\n",
    "\n",
    "        scaler = StandardScaler()\n",
    "\n",
    "        metric_Xy_scaled = pd.DataFrame(scaler.fit_transform(metric_Xy_nointeract), \n",
    "                                        columns=metric_Xy_nointeract.columns)\n",
    "\n",
    "        ####################################\n",
    "\n",
    "        # concatenate all features and separate y\n",
    "        y_scaled = metric_Xy_scaled[\"score\"]\n",
    "        X_scaled = pd.concat([df_nominal, metric_Xy_scaled.iloc[:,1:]], axis=1)\n",
    "\n",
    "\n",
    "        ####################################\n",
    "\n",
    "        # get best model-parameter for every dataset and estimate coefficients \n",
    "\n",
    "        print(\"Use LASSO\")\n",
    "        for idx, data in enumerate([(X_scaled, y_scaled)]):\n",
    "            lasso = LassoCV(cv=4, max_iter=100000, random_state=42598)\n",
    "            lasso.fit(data[0], data[1])\n",
    "            print(\"R^2:\", lasso.score(data[0], data[1]), \"alpha:\", lasso.alpha_)\n",
    "            print(\"Avg. CV MSE:\", lasso.mse_path_[lasso.alphas_==lasso.alpha_].sum()/4)\n",
    "\n",
    "            lasso_coefs = pd.Series(lasso.coef_, index=data[0].columns)\n",
    "            lasso_coefs.name = \"weight\"\n",
    "            lasso_coefs.to_frame().to_csv(\"feature_selection/20190705_lasso_coefficients_%s_%d.csv\"%(domain, version), sep=\";\")\n"
   ]
  },
  {
   "cell_type": "markdown",
   "metadata": {},
   "source": [
    "## Select feature transformation using cut off value"
   ]
  },
  {
   "cell_type": "code",
   "execution_count": 253,
   "metadata": {},
   "outputs": [],
   "source": [
    "domain = \"Versandhandel\"\n",
    "version = 1\n",
    "\n",
    "coefs = pd.read_csv(\"feature_selection/20190704_lasso_coefficients_%s_%d.csv\"%(domain, version), sep=\";\")\n",
    "coefs = coefs.set_index(coefs.columns[0])"
   ]
  },
  {
   "cell_type": "code",
   "execution_count": 255,
   "metadata": {},
   "outputs": [
    {
     "data": {
      "image/png": "[encoded data removed]",
      "text/plain": [
       "<Figure size 432x288 with 1 Axes>"
      ]
     },
     "metadata": {
      "needs_background": "light"
     },
     "output_type": "display_data"
    },
    {
     "data": {
      "text/html": [
       "<div>\n",
       "<style scoped>\n",
       "    .dataframe tbody tr th:only-of-type {\n",
       "        vertical-align: middle;\n",
       "    }\n",
       "\n",
       "    .dataframe tbody tr th {\n",
       "        vertical-align: top;\n",
       "    }\n",
       "\n",
       "    .dataframe thead th {\n",
       "        text-align: right;\n",
       "    }\n",
       "</style>\n",
       "<table border=\"1\" class=\"dataframe\">\n",
       "  <thead>\n",
       "    <tr style=\"text-align: right;\">\n",
       "      <th></th>\n",
       "      <th>weight</th>\n",
       "    </tr>\n",
       "    <tr>\n",
       "      <th>Unnamed: 0</th>\n",
       "      <th></th>\n",
       "    </tr>\n",
       "  </thead>\n",
       "  <tbody>\n",
       "    <tr>\n",
       "      <th>age_log2</th>\n",
       "      <td>0.369418</td>\n",
       "    </tr>\n",
       "    <tr>\n",
       "      <th>solvency_log2</th>\n",
       "      <td>0.344579</td>\n",
       "    </tr>\n",
       "    <tr>\n",
       "      <th>credit_card_days_log2</th>\n",
       "      <td>0.248665</td>\n",
       "    </tr>\n",
       "    <tr>\n",
       "      <th>female</th>\n",
       "      <td>0.218293</td>\n",
       "    </tr>\n",
       "    <tr>\n",
       "      <th>finance_year_log2</th>\n",
       "      <td>0.191674</td>\n",
       "    </tr>\n",
       "    <tr>\n",
       "      <th>relocation_**2</th>\n",
       "      <td>0.127810</td>\n",
       "    </tr>\n",
       "    <tr>\n",
       "      <th>Versandhandel_req_log2</th>\n",
       "      <td>0.117238</td>\n",
       "    </tr>\n",
       "    <tr>\n",
       "      <th>credit_card_days</th>\n",
       "      <td>0.113125</td>\n",
       "    </tr>\n",
       "    <tr>\n",
       "      <th>credit_card_days_**3</th>\n",
       "      <td>0.075614</td>\n",
       "    </tr>\n",
       "    <tr>\n",
       "      <th>relocation*giro_days</th>\n",
       "      <td>0.074122</td>\n",
       "    </tr>\n",
       "    <tr>\n",
       "      <th>solvency*credit_card_days</th>\n",
       "      <td>0.051015</td>\n",
       "    </tr>\n",
       "    <tr>\n",
       "      <th>request*credit_card_days</th>\n",
       "      <td>0.050276</td>\n",
       "    </tr>\n",
       "    <tr>\n",
       "      <th>age*solvency</th>\n",
       "      <td>0.050063</td>\n",
       "    </tr>\n",
       "  </tbody>\n",
       "</table>\n",
       "</div>"
      ],
      "text/plain": [
       "                             weight\n",
       "Unnamed: 0                         \n",
       "age_log2                   0.369418\n",
       "solvency_log2              0.344579\n",
       "credit_card_days_log2      0.248665\n",
       "female                     0.218293\n",
       "finance_year_log2          0.191674\n",
       "relocation_**2             0.127810\n",
       "Versandhandel_req_log2     0.117238\n",
       "credit_card_days           0.113125\n",
       "credit_card_days_**3       0.075614\n",
       "relocation*giro_days       0.074122\n",
       "solvency*credit_card_days  0.051015\n",
       "request*credit_card_days   0.050276\n",
       "age*solvency               0.050063"
      ]
     },
     "execution_count": 255,
     "metadata": {},
     "output_type": "execute_result"
    }
   ],
   "source": [
    "abs(coefs).sort_values(\"weight\", ascending=False).plot()\n",
    "plt.show()\n",
    "plt.close()\n",
    "selection = abs(coefs[abs(coefs)[\"weight\"]>.05]).sort_values(\"weight\", ascending=False)\n",
    "selection"
   ]
  },
  {
   "cell_type": "code",
   "execution_count": 252,
   "metadata": {},
   "outputs": [],
   "source": [
    "pd.DataFrame(selection.index.tolist(), columns=[\"feature\"]).to_csv(\"feature_selection/20190704_lasso_selection_%s_%d.csv\"%(domain, version), sep=\";\", index=False)"
   ]
  },
  {
   "cell_type": "code",
   "execution_count": null,
   "metadata": {},
   "outputs": [],
   "source": []
  },
  {
   "cell_type": "code",
   "execution_count": 256,
   "metadata": {},
   "outputs": [],
   "source": [
    "domain = \"Versandhandel\"\n",
    "version = 2\n",
    "\n",
    "coefs = pd.read_csv(\"feature_selection/20190704_lasso_coefficients_%s_%d.csv\"%(domain, version), sep=\";\")\n",
    "coefs = coefs.set_index(coefs.columns[0])"
   ]
  },
  {
   "cell_type": "code",
   "execution_count": 259,
   "metadata": {},
   "outputs": [
    {
     "data": {
      "image/png": "[encoded data removed]",
      "text/plain": [
       "<Figure size 432x288 with 1 Axes>"
      ]
     },
     "metadata": {
      "needs_background": "light"
     },
     "output_type": "display_data"
    },
    {
     "data": {
      "text/html": [
       "<div>\n",
       "<style scoped>\n",
       "    .dataframe tbody tr th:only-of-type {\n",
       "        vertical-align: middle;\n",
       "    }\n",
       "\n",
       "    .dataframe tbody tr th {\n",
       "        vertical-align: top;\n",
       "    }\n",
       "\n",
       "    .dataframe thead th {\n",
       "        text-align: right;\n",
       "    }\n",
       "</style>\n",
       "<table border=\"1\" class=\"dataframe\">\n",
       "  <thead>\n",
       "    <tr style=\"text-align: right;\">\n",
       "      <th></th>\n",
       "      <th>weight</th>\n",
       "    </tr>\n",
       "    <tr>\n",
       "      <th>Unnamed: 0</th>\n",
       "      <th></th>\n",
       "    </tr>\n",
       "  </thead>\n",
       "  <tbody>\n",
       "    <tr>\n",
       "      <th>age_log2</th>\n",
       "      <td>0.537568</td>\n",
       "    </tr>\n",
       "    <tr>\n",
       "      <th>credit_card_days_log2</th>\n",
       "      <td>0.364102</td>\n",
       "    </tr>\n",
       "    <tr>\n",
       "      <th>solvency</th>\n",
       "      <td>0.268045</td>\n",
       "    </tr>\n",
       "    <tr>\n",
       "      <th>female</th>\n",
       "      <td>0.241611</td>\n",
       "    </tr>\n",
       "    <tr>\n",
       "      <th>age_**3</th>\n",
       "      <td>0.177623</td>\n",
       "    </tr>\n",
       "    <tr>\n",
       "      <th>age*giro</th>\n",
       "      <td>0.139739</td>\n",
       "    </tr>\n",
       "    <tr>\n",
       "      <th>request</th>\n",
       "      <td>0.139064</td>\n",
       "    </tr>\n",
       "    <tr>\n",
       "      <th>giro_days_log2</th>\n",
       "      <td>0.105073</td>\n",
       "    </tr>\n",
       "    <tr>\n",
       "      <th>secured_loan_log2</th>\n",
       "      <td>0.082369</td>\n",
       "    </tr>\n",
       "    <tr>\n",
       "      <th>finance_year_log2</th>\n",
       "      <td>0.069211</td>\n",
       "    </tr>\n",
       "    <tr>\n",
       "      <th>Versandhandel_req_**3</th>\n",
       "      <td>0.066173</td>\n",
       "    </tr>\n",
       "    <tr>\n",
       "      <th>relocation</th>\n",
       "      <td>0.064906</td>\n",
       "    </tr>\n",
       "    <tr>\n",
       "      <th>giro_days</th>\n",
       "      <td>0.062691</td>\n",
       "    </tr>\n",
       "    <tr>\n",
       "      <th>credit_card_**2</th>\n",
       "      <td>0.057829</td>\n",
       "    </tr>\n",
       "    <tr>\n",
       "      <th>request_**2</th>\n",
       "      <td>0.056720</td>\n",
       "    </tr>\n",
       "    <tr>\n",
       "      <th>Versandhandel_req_log2</th>\n",
       "      <td>0.056436</td>\n",
       "    </tr>\n",
       "    <tr>\n",
       "      <th>request*finance_year</th>\n",
       "      <td>0.054166</td>\n",
       "    </tr>\n",
       "    <tr>\n",
       "      <th>conditions_log2</th>\n",
       "      <td>0.053758</td>\n",
       "    </tr>\n",
       "    <tr>\n",
       "      <th>giro</th>\n",
       "      <td>0.053165</td>\n",
       "    </tr>\n",
       "    <tr>\n",
       "      <th>solvency_**2</th>\n",
       "      <td>0.052504</td>\n",
       "    </tr>\n",
       "    <tr>\n",
       "      <th>telecom</th>\n",
       "      <td>0.050046</td>\n",
       "    </tr>\n",
       "  </tbody>\n",
       "</table>\n",
       "</div>"
      ],
      "text/plain": [
       "                          weight\n",
       "Unnamed: 0                      \n",
       "age_log2                0.537568\n",
       "credit_card_days_log2   0.364102\n",
       "solvency                0.268045\n",
       "female                  0.241611\n",
       "age_**3                 0.177623\n",
       "age*giro                0.139739\n",
       "request                 0.139064\n",
       "giro_days_log2          0.105073\n",
       "secured_loan_log2       0.082369\n",
       "finance_year_log2       0.069211\n",
       "Versandhandel_req_**3   0.066173\n",
       "relocation              0.064906\n",
       "giro_days               0.062691\n",
       "credit_card_**2         0.057829\n",
       "request_**2             0.056720\n",
       "Versandhandel_req_log2  0.056436\n",
       "request*finance_year    0.054166\n",
       "conditions_log2         0.053758\n",
       "giro                    0.053165\n",
       "solvency_**2            0.052504\n",
       "telecom                 0.050046"
      ]
     },
     "execution_count": 259,
     "metadata": {},
     "output_type": "execute_result"
    }
   ],
   "source": [
    "abs(coefs).sort_values(\"weight\", ascending=False).plot()\n",
    "plt.show()\n",
    "plt.close()\n",
    "selection = abs(coefs[abs(coefs)[\"weight\"]>.05]).sort_values(\"weight\", ascending=False)\n",
    "selection"
   ]
  },
  {
   "cell_type": "code",
   "execution_count": 260,
   "metadata": {},
   "outputs": [],
   "source": [
    "pd.DataFrame(selection.index.tolist(), columns=[\"feature\"]).to_csv(\"feature_selection/20190704_lasso_selection_%s_%d.csv\"%(domain, version), sep=\";\", index=False)"
   ]
  },
  {
   "cell_type": "code",
   "execution_count": null,
   "metadata": {},
   "outputs": [],
   "source": []
  },
  {
   "cell_type": "code",
   "execution_count": 261,
   "metadata": {},
   "outputs": [],
   "source": [
    "domain = \"Versandhandel\"\n",
    "version = 3\n",
    "\n",
    "coefs = pd.read_csv(\"feature_selection/20190704_lasso_coefficients_%s_%d.csv\"%(domain, version), sep=\";\")\n",
    "coefs = coefs.set_index(coefs.columns[0])"
   ]
  },
  {
   "cell_type": "code",
   "execution_count": 262,
   "metadata": {},
   "outputs": [
    {
     "data": {
      "image/png": "[encoded data removed]",
      "text/plain": [
       "<Figure size 432x288 with 1 Axes>"
      ]
     },
     "metadata": {
      "needs_background": "light"
     },
     "output_type": "display_data"
    },
    {
     "data": {
      "text/html": [
       "<div>\n",
       "<style scoped>\n",
       "    .dataframe tbody tr th:only-of-type {\n",
       "        vertical-align: middle;\n",
       "    }\n",
       "\n",
       "    .dataframe tbody tr th {\n",
       "        vertical-align: top;\n",
       "    }\n",
       "\n",
       "    .dataframe thead th {\n",
       "        text-align: right;\n",
       "    }\n",
       "</style>\n",
       "<table border=\"1\" class=\"dataframe\">\n",
       "  <thead>\n",
       "    <tr style=\"text-align: right;\">\n",
       "      <th></th>\n",
       "      <th>weight</th>\n",
       "    </tr>\n",
       "    <tr>\n",
       "      <th>Unnamed: 0</th>\n",
       "      <th></th>\n",
       "    </tr>\n",
       "  </thead>\n",
       "  <tbody>\n",
       "    <tr>\n",
       "      <th>age_log2</th>\n",
       "      <td>0.435694</td>\n",
       "    </tr>\n",
       "    <tr>\n",
       "      <th>credit_card_days_log2</th>\n",
       "      <td>0.266513</td>\n",
       "    </tr>\n",
       "    <tr>\n",
       "      <th>solvency</th>\n",
       "      <td>0.235018</td>\n",
       "    </tr>\n",
       "    <tr>\n",
       "      <th>age*credit_card</th>\n",
       "      <td>0.162453</td>\n",
       "    </tr>\n",
       "    <tr>\n",
       "      <th>credit_card_days</th>\n",
       "      <td>0.141320</td>\n",
       "    </tr>\n",
       "    <tr>\n",
       "      <th>secured_loan_log2</th>\n",
       "      <td>0.118788</td>\n",
       "    </tr>\n",
       "    <tr>\n",
       "      <th>giro_days</th>\n",
       "      <td>0.114862</td>\n",
       "    </tr>\n",
       "    <tr>\n",
       "      <th>request</th>\n",
       "      <td>0.110368</td>\n",
       "    </tr>\n",
       "    <tr>\n",
       "      <th>relocation</th>\n",
       "      <td>0.097126</td>\n",
       "    </tr>\n",
       "    <tr>\n",
       "      <th>telecom</th>\n",
       "      <td>0.088538</td>\n",
       "    </tr>\n",
       "    <tr>\n",
       "      <th>telecom_log2</th>\n",
       "      <td>0.086411</td>\n",
       "    </tr>\n",
       "    <tr>\n",
       "      <th>finance_year_log2</th>\n",
       "      <td>0.083215</td>\n",
       "    </tr>\n",
       "    <tr>\n",
       "      <th>age_**3</th>\n",
       "      <td>0.070735</td>\n",
       "    </tr>\n",
       "    <tr>\n",
       "      <th>giro*unsecured_loan</th>\n",
       "      <td>0.053175</td>\n",
       "    </tr>\n",
       "    <tr>\n",
       "      <th>age*request</th>\n",
       "      <td>0.050733</td>\n",
       "    </tr>\n",
       "    <tr>\n",
       "      <th>request_**2</th>\n",
       "      <td>0.050286</td>\n",
       "    </tr>\n",
       "  </tbody>\n",
       "</table>\n",
       "</div>"
      ],
      "text/plain": [
       "                         weight\n",
       "Unnamed: 0                     \n",
       "age_log2               0.435694\n",
       "credit_card_days_log2  0.266513\n",
       "solvency               0.235018\n",
       "age*credit_card        0.162453\n",
       "credit_card_days       0.141320\n",
       "secured_loan_log2      0.118788\n",
       "giro_days              0.114862\n",
       "request                0.110368\n",
       "relocation             0.097126\n",
       "telecom                0.088538\n",
       "telecom_log2           0.086411\n",
       "finance_year_log2      0.083215\n",
       "age_**3                0.070735\n",
       "giro*unsecured_loan    0.053175\n",
       "age*request            0.050733\n",
       "request_**2            0.050286"
      ]
     },
     "execution_count": 262,
     "metadata": {},
     "output_type": "execute_result"
    }
   ],
   "source": [
    "abs(coefs).sort_values(\"weight\", ascending=False).plot()\n",
    "plt.show()\n",
    "plt.close()\n",
    "selection = abs(coefs[abs(coefs)[\"weight\"]>.05]).sort_values(\"weight\", ascending=False)\n",
    "selection"
   ]
  },
  {
   "cell_type": "code",
   "execution_count": 263,
   "metadata": {},
   "outputs": [],
   "source": [
    "pd.DataFrame(selection.index.tolist(), columns=[\"feature\"]).to_csv(\"feature_selection/20190704_lasso_selection_%s_%d.csv\"%(domain, version), sep=\";\", index=False)"
   ]
  },
  {
   "cell_type": "code",
   "execution_count": null,
   "metadata": {},
   "outputs": [],
   "source": []
  },
  {
   "cell_type": "code",
   "execution_count": 317,
   "metadata": {},
   "outputs": [],
   "source": [
    "domain = \"Banken\"\n",
    "version = 1\n",
    "\n",
    "coefs = pd.read_csv(\"feature_selection/20190704_lasso_coefficients_%s_%d.csv\"%(domain, version), sep=\";\")\n",
    "coefs = coefs.set_index(coefs.columns[0])"
   ]
  },
  {
   "cell_type": "code",
   "execution_count": 318,
   "metadata": {},
   "outputs": [
    {
     "data": {
      "image/png": "[encoded data removed]",
      "text/plain": [
       "<Figure size 432x288 with 1 Axes>"
      ]
     },
     "metadata": {
      "needs_background": "light"
     },
     "output_type": "display_data"
    },
    {
     "data": {
      "text/html": [
       "<div>\n",
       "<style scoped>\n",
       "    .dataframe tbody tr th:only-of-type {\n",
       "        vertical-align: middle;\n",
       "    }\n",
       "\n",
       "    .dataframe tbody tr th {\n",
       "        vertical-align: top;\n",
       "    }\n",
       "\n",
       "    .dataframe thead th {\n",
       "        text-align: right;\n",
       "    }\n",
       "</style>\n",
       "<table border=\"1\" class=\"dataframe\">\n",
       "  <thead>\n",
       "    <tr style=\"text-align: right;\">\n",
       "      <th></th>\n",
       "      <th>weight</th>\n",
       "    </tr>\n",
       "    <tr>\n",
       "      <th>Unnamed: 0</th>\n",
       "      <th></th>\n",
       "    </tr>\n",
       "  </thead>\n",
       "  <tbody>\n",
       "    <tr>\n",
       "      <th>age_log2</th>\n",
       "      <td>0.402360</td>\n",
       "    </tr>\n",
       "    <tr>\n",
       "      <th>solvency_log2</th>\n",
       "      <td>0.311349</td>\n",
       "    </tr>\n",
       "    <tr>\n",
       "      <th>credit_card_days</th>\n",
       "      <td>0.256749</td>\n",
       "    </tr>\n",
       "    <tr>\n",
       "      <th>credit_card_days_log2</th>\n",
       "      <td>0.147609</td>\n",
       "    </tr>\n",
       "    <tr>\n",
       "      <th>request</th>\n",
       "      <td>0.139457</td>\n",
       "    </tr>\n",
       "    <tr>\n",
       "      <th>solvency</th>\n",
       "      <td>0.101377</td>\n",
       "    </tr>\n",
       "    <tr>\n",
       "      <th>age_**3</th>\n",
       "      <td>0.098422</td>\n",
       "    </tr>\n",
       "    <tr>\n",
       "      <th>credit_card_days_**3</th>\n",
       "      <td>0.085469</td>\n",
       "    </tr>\n",
       "    <tr>\n",
       "      <th>relocation_**2</th>\n",
       "      <td>0.084428</td>\n",
       "    </tr>\n",
       "    <tr>\n",
       "      <th>finance_year_log2</th>\n",
       "      <td>0.073156</td>\n",
       "    </tr>\n",
       "    <tr>\n",
       "      <th>relocation*giro_days</th>\n",
       "      <td>0.066825</td>\n",
       "    </tr>\n",
       "    <tr>\n",
       "      <th>solvency*credit_card_days</th>\n",
       "      <td>0.066000</td>\n",
       "    </tr>\n",
       "    <tr>\n",
       "      <th>female</th>\n",
       "      <td>0.061353</td>\n",
       "    </tr>\n",
       "    <tr>\n",
       "      <th>relocation*solvency</th>\n",
       "      <td>0.060724</td>\n",
       "    </tr>\n",
       "    <tr>\n",
       "      <th>giro*telecom</th>\n",
       "      <td>0.052790</td>\n",
       "    </tr>\n",
       "    <tr>\n",
       "      <th>mailOrder</th>\n",
       "      <td>0.045459</td>\n",
       "    </tr>\n",
       "    <tr>\n",
       "      <th>conditions*credit_card</th>\n",
       "      <td>0.044752</td>\n",
       "    </tr>\n",
       "  </tbody>\n",
       "</table>\n",
       "</div>"
      ],
      "text/plain": [
       "                             weight\n",
       "Unnamed: 0                         \n",
       "age_log2                   0.402360\n",
       "solvency_log2              0.311349\n",
       "credit_card_days           0.256749\n",
       "credit_card_days_log2      0.147609\n",
       "request                    0.139457\n",
       "solvency                   0.101377\n",
       "age_**3                    0.098422\n",
       "credit_card_days_**3       0.085469\n",
       "relocation_**2             0.084428\n",
       "finance_year_log2          0.073156\n",
       "relocation*giro_days       0.066825\n",
       "solvency*credit_card_days  0.066000\n",
       "female                     0.061353\n",
       "relocation*solvency        0.060724\n",
       "giro*telecom               0.052790\n",
       "mailOrder                  0.045459\n",
       "conditions*credit_card     0.044752"
      ]
     },
     "execution_count": 318,
     "metadata": {},
     "output_type": "execute_result"
    }
   ],
   "source": [
    "abs(coefs).sort_values(\"weight\", ascending=False).plot()\n",
    "plt.show()\n",
    "plt.close()\n",
    "selection = abs(coefs[abs(coefs)[\"weight\"]>.04]).sort_values(\"weight\", ascending=False)\n",
    "selection"
   ]
  },
  {
   "cell_type": "code",
   "execution_count": 319,
   "metadata": {},
   "outputs": [],
   "source": [
    "pd.DataFrame(selection.index.tolist(), columns=[\"feature\"]).to_csv(\"feature_selection/20190704_lasso_selection_%s_%d.csv\"%(domain, version), sep=\";\", index=False)"
   ]
  },
  {
   "cell_type": "code",
   "execution_count": null,
   "metadata": {},
   "outputs": [],
   "source": []
  },
  {
   "cell_type": "code",
   "execution_count": 268,
   "metadata": {},
   "outputs": [],
   "source": [
    "domain = \"Banken\"\n",
    "version = 2\n",
    "\n",
    "coefs = pd.read_csv(\"feature_selection/20190704_lasso_coefficients_%s_%d.csv\"%(domain, version), sep=\";\")\n",
    "coefs = coefs.set_index(coefs.columns[0])"
   ]
  },
  {
   "cell_type": "code",
   "execution_count": 270,
   "metadata": {},
   "outputs": [
    {
     "data": {
      "image/png": "[encoded data removed]",
      "text/plain": [
       "<Figure size 432x288 with 1 Axes>"
      ]
     },
     "metadata": {
      "needs_background": "light"
     },
     "output_type": "display_data"
    },
    {
     "data": {
      "text/html": [
       "<div>\n",
       "<style scoped>\n",
       "    .dataframe tbody tr th:only-of-type {\n",
       "        vertical-align: middle;\n",
       "    }\n",
       "\n",
       "    .dataframe tbody tr th {\n",
       "        vertical-align: top;\n",
       "    }\n",
       "\n",
       "    .dataframe thead th {\n",
       "        text-align: right;\n",
       "    }\n",
       "</style>\n",
       "<table border=\"1\" class=\"dataframe\">\n",
       "  <thead>\n",
       "    <tr style=\"text-align: right;\">\n",
       "      <th></th>\n",
       "      <th>weight</th>\n",
       "    </tr>\n",
       "    <tr>\n",
       "      <th>Unnamed: 0</th>\n",
       "      <th></th>\n",
       "    </tr>\n",
       "  </thead>\n",
       "  <tbody>\n",
       "    <tr>\n",
       "      <th>age_log2</th>\n",
       "      <td>0.549860</td>\n",
       "    </tr>\n",
       "    <tr>\n",
       "      <th>solvency</th>\n",
       "      <td>0.315618</td>\n",
       "    </tr>\n",
       "    <tr>\n",
       "      <th>credit_card_days_log2</th>\n",
       "      <td>0.294429</td>\n",
       "    </tr>\n",
       "    <tr>\n",
       "      <th>age*giro</th>\n",
       "      <td>0.194097</td>\n",
       "    </tr>\n",
       "    <tr>\n",
       "      <th>age_**3</th>\n",
       "      <td>0.169850</td>\n",
       "    </tr>\n",
       "    <tr>\n",
       "      <th>giro_days</th>\n",
       "      <td>0.156573</td>\n",
       "    </tr>\n",
       "    <tr>\n",
       "      <th>Banken_req</th>\n",
       "      <td>0.103601</td>\n",
       "    </tr>\n",
       "    <tr>\n",
       "      <th>request</th>\n",
       "      <td>0.095139</td>\n",
       "    </tr>\n",
       "    <tr>\n",
       "      <th>conditions_log2</th>\n",
       "      <td>0.090286</td>\n",
       "    </tr>\n",
       "    <tr>\n",
       "      <th>relocation</th>\n",
       "      <td>0.086496</td>\n",
       "    </tr>\n",
       "    <tr>\n",
       "      <th>age*telecom</th>\n",
       "      <td>0.063017</td>\n",
       "    </tr>\n",
       "    <tr>\n",
       "      <th>giro*unsecured_loan</th>\n",
       "      <td>0.062421</td>\n",
       "    </tr>\n",
       "    <tr>\n",
       "      <th>solvency*giro_days</th>\n",
       "      <td>0.057587</td>\n",
       "    </tr>\n",
       "    <tr>\n",
       "      <th>request*unsecured_loan</th>\n",
       "      <td>0.056209</td>\n",
       "    </tr>\n",
       "    <tr>\n",
       "      <th>request*credit_card_days</th>\n",
       "      <td>0.050481</td>\n",
       "    </tr>\n",
       "    <tr>\n",
       "      <th>finance_year_log2</th>\n",
       "      <td>0.049883</td>\n",
       "    </tr>\n",
       "    <tr>\n",
       "      <th>age*unsecured_loan</th>\n",
       "      <td>0.047905</td>\n",
       "    </tr>\n",
       "    <tr>\n",
       "      <th>giro*identity</th>\n",
       "      <td>0.041579</td>\n",
       "    </tr>\n",
       "    <tr>\n",
       "      <th>relocation*giro_days</th>\n",
       "      <td>0.040150</td>\n",
       "    </tr>\n",
       "  </tbody>\n",
       "</table>\n",
       "</div>"
      ],
      "text/plain": [
       "                            weight\n",
       "Unnamed: 0                        \n",
       "age_log2                  0.549860\n",
       "solvency                  0.315618\n",
       "credit_card_days_log2     0.294429\n",
       "age*giro                  0.194097\n",
       "age_**3                   0.169850\n",
       "giro_days                 0.156573\n",
       "Banken_req                0.103601\n",
       "request                   0.095139\n",
       "conditions_log2           0.090286\n",
       "relocation                0.086496\n",
       "age*telecom               0.063017\n",
       "giro*unsecured_loan       0.062421\n",
       "solvency*giro_days        0.057587\n",
       "request*unsecured_loan    0.056209\n",
       "request*credit_card_days  0.050481\n",
       "finance_year_log2         0.049883\n",
       "age*unsecured_loan        0.047905\n",
       "giro*identity             0.041579\n",
       "relocation*giro_days      0.040150"
      ]
     },
     "execution_count": 270,
     "metadata": {},
     "output_type": "execute_result"
    }
   ],
   "source": [
    "abs(coefs).sort_values(\"weight\", ascending=False).plot()\n",
    "plt.show()\n",
    "plt.close()\n",
    "selection = abs(coefs[abs(coefs)[\"weight\"]>.04]).sort_values(\"weight\", ascending=False)\n",
    "selection"
   ]
  },
  {
   "cell_type": "code",
   "execution_count": 271,
   "metadata": {},
   "outputs": [],
   "source": [
    "pd.DataFrame(selection.index.tolist(), columns=[\"feature\"]).to_csv(\"feature_selection/20190704_lasso_selection_%s_%d.csv\"%(domain, version), sep=\";\", index=False)"
   ]
  },
  {
   "cell_type": "code",
   "execution_count": null,
   "metadata": {},
   "outputs": [],
   "source": []
  },
  {
   "cell_type": "code",
   "execution_count": 272,
   "metadata": {},
   "outputs": [],
   "source": [
    "domain = \"Banken\"\n",
    "version = 3\n",
    "\n",
    "coefs = pd.read_csv(\"feature_selection/20190704_lasso_coefficients_%s_%d.csv\"%(domain, version), sep=\";\")\n",
    "coefs = coefs.set_index(coefs.columns[0])"
   ]
  },
  {
   "cell_type": "code",
   "execution_count": 277,
   "metadata": {},
   "outputs": [
    {
     "data": {
      "image/png": "[encoded data removed]",
      "text/plain": [
       "<Figure size 432x288 with 1 Axes>"
      ]
     },
     "metadata": {
      "needs_background": "light"
     },
     "output_type": "display_data"
    },
    {
     "data": {
      "text/html": [
       "<div>\n",
       "<style scoped>\n",
       "    .dataframe tbody tr th:only-of-type {\n",
       "        vertical-align: middle;\n",
       "    }\n",
       "\n",
       "    .dataframe tbody tr th {\n",
       "        vertical-align: top;\n",
       "    }\n",
       "\n",
       "    .dataframe thead th {\n",
       "        text-align: right;\n",
       "    }\n",
       "</style>\n",
       "<table border=\"1\" class=\"dataframe\">\n",
       "  <thead>\n",
       "    <tr style=\"text-align: right;\">\n",
       "      <th></th>\n",
       "      <th>weight</th>\n",
       "    </tr>\n",
       "    <tr>\n",
       "      <th>Unnamed: 0</th>\n",
       "      <th></th>\n",
       "    </tr>\n",
       "  </thead>\n",
       "  <tbody>\n",
       "    <tr>\n",
       "      <th>age_log2</th>\n",
       "      <td>0.277907</td>\n",
       "    </tr>\n",
       "    <tr>\n",
       "      <th>solvency</th>\n",
       "      <td>0.183298</td>\n",
       "    </tr>\n",
       "    <tr>\n",
       "      <th>solvency_log2</th>\n",
       "      <td>0.182087</td>\n",
       "    </tr>\n",
       "    <tr>\n",
       "      <th>finance_year_log2</th>\n",
       "      <td>0.177145</td>\n",
       "    </tr>\n",
       "    <tr>\n",
       "      <th>request</th>\n",
       "      <td>0.136221</td>\n",
       "    </tr>\n",
       "    <tr>\n",
       "      <th>giro_days</th>\n",
       "      <td>0.135083</td>\n",
       "    </tr>\n",
       "    <tr>\n",
       "      <th>secured_loan_log2</th>\n",
       "      <td>0.132430</td>\n",
       "    </tr>\n",
       "    <tr>\n",
       "      <th>credit_card_days_log2</th>\n",
       "      <td>0.129226</td>\n",
       "    </tr>\n",
       "    <tr>\n",
       "      <th>relocation_log2</th>\n",
       "      <td>0.122548</td>\n",
       "    </tr>\n",
       "    <tr>\n",
       "      <th>credit_card_days</th>\n",
       "      <td>0.117484</td>\n",
       "    </tr>\n",
       "    <tr>\n",
       "      <th>giro*unsecured_loan</th>\n",
       "      <td>0.087314</td>\n",
       "    </tr>\n",
       "    <tr>\n",
       "      <th>credit_card_**3</th>\n",
       "      <td>0.084997</td>\n",
       "    </tr>\n",
       "    <tr>\n",
       "      <th>request*solvency</th>\n",
       "      <td>0.076771</td>\n",
       "    </tr>\n",
       "    <tr>\n",
       "      <th>request*credit_card_days</th>\n",
       "      <td>0.064864</td>\n",
       "    </tr>\n",
       "    <tr>\n",
       "      <th>credit_days_log2</th>\n",
       "      <td>0.061074</td>\n",
       "    </tr>\n",
       "    <tr>\n",
       "      <th>solvency*credit_card_days</th>\n",
       "      <td>0.060479</td>\n",
       "    </tr>\n",
       "    <tr>\n",
       "      <th>giro*telecom</th>\n",
       "      <td>0.060223</td>\n",
       "    </tr>\n",
       "    <tr>\n",
       "      <th>age*giro</th>\n",
       "      <td>0.050322</td>\n",
       "    </tr>\n",
       "    <tr>\n",
       "      <th>relocation*giro</th>\n",
       "      <td>0.046734</td>\n",
       "    </tr>\n",
       "    <tr>\n",
       "      <th>unsecured_loan_**3</th>\n",
       "      <td>0.036925</td>\n",
       "    </tr>\n",
       "    <tr>\n",
       "      <th>monthlyIncome</th>\n",
       "      <td>0.031116</td>\n",
       "    </tr>\n",
       "  </tbody>\n",
       "</table>\n",
       "</div>"
      ],
      "text/plain": [
       "                             weight\n",
       "Unnamed: 0                         \n",
       "age_log2                   0.277907\n",
       "solvency                   0.183298\n",
       "solvency_log2              0.182087\n",
       "finance_year_log2          0.177145\n",
       "request                    0.136221\n",
       "giro_days                  0.135083\n",
       "secured_loan_log2          0.132430\n",
       "credit_card_days_log2      0.129226\n",
       "relocation_log2            0.122548\n",
       "credit_card_days           0.117484\n",
       "giro*unsecured_loan        0.087314\n",
       "credit_card_**3            0.084997\n",
       "request*solvency           0.076771\n",
       "request*credit_card_days   0.064864\n",
       "credit_days_log2           0.061074\n",
       "solvency*credit_card_days  0.060479\n",
       "giro*telecom               0.060223\n",
       "age*giro                   0.050322\n",
       "relocation*giro            0.046734\n",
       "unsecured_loan_**3         0.036925\n",
       "monthlyIncome              0.031116"
      ]
     },
     "execution_count": 277,
     "metadata": {},
     "output_type": "execute_result"
    }
   ],
   "source": [
    "abs(coefs).sort_values(\"weight\", ascending=False).plot()\n",
    "plt.show()\n",
    "plt.close()\n",
    "selection = abs(coefs[abs(coefs)[\"weight\"]>.03]).sort_values(\"weight\", ascending=False)\n",
    "selection"
   ]
  },
  {
   "cell_type": "code",
   "execution_count": 278,
   "metadata": {},
   "outputs": [],
   "source": [
    "pd.DataFrame(selection.index.tolist(), columns=[\"feature\"]).to_csv(\"feature_selection/20190704_lasso_selection_%s_%d.csv\"%(domain, version), sep=\";\", index=False)"
   ]
  },
  {
   "cell_type": "markdown",
   "metadata": {},
   "source": [
    "### Select most relevant feature transformation of each variable"
   ]
  },
  {
   "cell_type": "code",
   "execution_count": 320,
   "metadata": {},
   "outputs": [],
   "source": [
    "for domain in [\"Banken\", \"Versandhandel\"]:\n",
    "    for version in [1, 2, 3]:\n",
    "        coefs = pd.read_csv(\"feature_selection/20190705_lasso_coefficients_%s_%d.csv\"%(domain, version), sep=\";\")\n",
    "        coefs = coefs.set_index(coefs.columns[0])\n",
    "\n",
    "        rank = abs(coefs).sort_values(\"weight\", ascending=False)\n",
    "\n",
    "        # Get all used plain variables\n",
    "        var_l = []\n",
    "        for f in rank.index:\n",
    "            f_split = f.rsplit('_', 1)\n",
    "            if f_split[-1] in [\"log2\", \"**2\", \"**3\"]:\n",
    "                var_l.append(f_split[0])\n",
    "            else:\n",
    "                var_l.append(f)\n",
    "\n",
    "        # Get duplicate variables (multiple transformations)\n",
    "        dupl_idx = pd.Series(var_l).duplicated(keep='first').values\n",
    "        # Remove duplicate variables with less effect on response (score)\n",
    "        best = rank[~dupl_idx]\n",
    "\n",
    "        pd.Series(best.index).to_csv(\"feature_selection/20190705_lasso_selection_%s_%d.csv\"%(domain, version), sep=\";\", index=False)"
   ]
  },
  {
   "cell_type": "code",
   "execution_count": 316,
   "metadata": {},
   "outputs": [],
   "source": []
  }
 ],
 "metadata": {
  "kernelspec": {
   "display_name": "Python 3",
   "language": "python",
   "name": "python3"
  },
  "language_info": {
   "codemirror_mode": {
    "name": "ipython",
    "version": 3
   },
   "file_extension": ".py",
   "mimetype": "text/x-python",
   "name": "python",
   "nbconvert_exporter": "python",
   "pygments_lexer": "ipython3",
   "version": "3.7.4"
  }
 },
 "nbformat": 4,
 "nbformat_minor": 2
}
