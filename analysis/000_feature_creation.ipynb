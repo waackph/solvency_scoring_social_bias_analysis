{
 "cells": [
  {
   "cell_type": "markdown",
   "metadata": {},
   "source": [
    "# Create features from the SCHUFA-Auskunft"
   ]
  },
  {
   "cell_type": "code",
   "execution_count": 1,
   "metadata": {},
   "outputs": [],
   "source": [
    "import pandas as pd\n",
    "import numpy as np"
   ]
  },
  {
   "cell_type": "code",
   "execution_count": 2,
   "metadata": {},
   "outputs": [],
   "source": [
    "data_path = \"/media/veracrypt1/SPON_dataset_tables/\"\n",
    "plot_path = \"plots/\""
   ]
  },
  {
   "cell_type": "code",
   "execution_count": 3,
   "metadata": {},
   "outputs": [],
   "source": [
    "#df_ds = pd.read_csv(data_path + \"SPON_dataset_tables/timedependent_dataset_final_only_valid_level_allfeat.csv\", sep=\";\")\n",
    "df_ds = pd.read_csv(data_path + \"SPON_data/20181208_update/parsed_data_final.csv\", sep=\",\", low_memory=False, parse_dates=[1])"
   ]
  },
  {
   "cell_type": "code",
   "execution_count": 4,
   "metadata": {},
   "outputs": [
    {
     "data": {
      "text/plain": [
       "Index(['id', 'date', 'table', 'customer', 'feature', 'domain', 'version',\n",
       "       'score', 'value', 'level', 'meaning', 'stoerung', 'kredit_jahr',\n",
       "       'kredit_nutzung', 'kredit_historie', 'allgemein', 'anschrift',\n",
       "       'all_columns_text', 'activeLoanAmount', 'admonition', 'cashing',\n",
       "       'employment', 'executionProceedings', 'familyStatus', 'housing',\n",
       "       'insolvencyProceedings', 'mailOrder', 'migrationBackground',\n",
       "       'monthlyIncome', 'numberOfActiveLoans', 'numberOfChildren',\n",
       "       'numberOfCreditCards', 'numberOfGiroAccounts',\n",
       "       'numberOfMobileContracts', 'numberOfPaidOffLoans', 'paidOffLoanAmount',\n",
       "       'plz', 'relocation', 'schufaDate', 'sex', 'yearOfBirth', 'foreigner',\n",
       "       'basisscore'],\n",
       "      dtype='object')"
      ]
     },
     "execution_count": 4,
     "metadata": {},
     "output_type": "execute_result"
    }
   ],
   "source": [
    "df_ds.columns"
   ]
  },
  {
   "cell_type": "code",
   "execution_count": 5,
   "metadata": {},
   "outputs": [
    {
     "data": {
      "text/plain": [
       "(0, 43)"
      ]
     },
     "execution_count": 5,
     "metadata": {},
     "output_type": "execute_result"
    }
   ],
   "source": [
    "# Duplicate Check:\n",
    "# Assuming only one current score per person\n",
    "tmp = df_ds[(df_ds[\"table\"]==\"table2\")&(df_ds[\"domain\"]==\"Versandhandel\")&(df_ds[\"version\"]==3)]\n",
    "tmp[tmp[\"id\"].duplicated(keep=False)].shape"
   ]
  },
  {
   "cell_type": "code",
   "execution_count": 6,
   "metadata": {},
   "outputs": [
    {
     "data": {
      "text/plain": [
       "(2625,)"
      ]
     },
     "execution_count": 6,
     "metadata": {},
     "output_type": "execute_result"
    }
   ],
   "source": [
    "df_ds.id.unique().shape"
   ]
  },
  {
   "cell_type": "markdown",
   "metadata": {},
   "source": [
    "## Questionaire Features"
   ]
  },
  {
   "cell_type": "code",
   "execution_count": 7,
   "metadata": {
    "scrolled": true
   },
   "outputs": [],
   "source": [
    "# plz agggregations\n",
    "def convert_plz(x):\n",
    "    if str(x) == \"nan\":\n",
    "        return x\n",
    "    else:\n",
    "        x = str(int(x))\n",
    "        if len(x) == 4:\n",
    "            x = \"0\" + x\n",
    "        return x\n",
    "\n",
    "df_ds[\"plz\"] = df_ds[\"plz\"].apply(convert_plz)"
   ]
  },
  {
   "cell_type": "code",
   "execution_count": 8,
   "metadata": {},
   "outputs": [],
   "source": [
    "def aggregate_plz(x):\n",
    "    if str(x) == \"nan\":\n",
    "        return x\n",
    "    else:\n",
    "        return x[0]\n",
    "\n",
    "df_ds[\"plz_one\"] = df_ds[\"plz\"].apply(aggregate_plz)"
   ]
  },
  {
   "cell_type": "code",
   "execution_count": 9,
   "metadata": {},
   "outputs": [],
   "source": [
    "def generate_east_west(x):\n",
    "    if str(x) == \"nan\":\n",
    "        return x\n",
    "    else:\n",
    "        if x in [\"0\", \"1\"]:\n",
    "            return \"east\"\n",
    "        else:\n",
    "            return \"west\"\n",
    "    \n",
    "df_ds[\"east_west\"] = df_ds[\"plz_one\"].apply(generate_east_west)"
   ]
  },
  {
   "cell_type": "code",
   "execution_count": 10,
   "metadata": {},
   "outputs": [],
   "source": [
    "def valid_timestamp(x):\n",
    "    if str(x)==\"nan\":\n",
    "        return x\n",
    "    else:\n",
    "        if x[:4] <= str(2018):\n",
    "            return pd.Timestamp(x)\n",
    "        else:\n",
    "            return np.nan\n",
    "\n",
    "df_ds[\"date\"] = df_ds[\"date\"].apply(valid_timestamp)"
   ]
  },
  {
   "cell_type": "code",
   "execution_count": 11,
   "metadata": {},
   "outputs": [],
   "source": [
    "# age at point of getting the schufa-information\n",
    "def get_age(row):\n",
    "    if str(row[\"yearOfBirth\"])==\"nan\":\n",
    "        return np.nan\n",
    "    else:\n",
    "        return row[\"date\"].year - row[\"yearOfBirth\"]\n",
    "    \n",
    "df_ds[\"age\"] = df_ds.apply(get_age, axis=1)"
   ]
  },
  {
   "cell_type": "code",
   "execution_count": 12,
   "metadata": {},
   "outputs": [],
   "source": [
    "# classes of age according to zensus 2011, bpb\n",
    "\n",
    "def get_ageclass(row):\n",
    "    if np.isnan(row):\n",
    "        return row\n",
    "    elif row < 15:\n",
    "        return \"<15\"\n",
    "    elif row >= 15 and row < 25:\n",
    "        return \"15-24\"\n",
    "    elif row >= 25 and row < 30:\n",
    "        return \"25-29\"\n",
    "    elif row >= 30 and row < 40:\n",
    "        return \"30-39\"\n",
    "    elif row >= 40 and row < 50:\n",
    "        return \"40-49\"\n",
    "    elif row >= 50 and row < 65:\n",
    "        return \"50-64\"\n",
    "    else:\n",
    "        return \">=65\"\n",
    "    \n",
    "df_ds[\"age_class\"] = df_ds[\"age\"].apply(get_ageclass)"
   ]
  },
  {
   "cell_type": "code",
   "execution_count": 13,
   "metadata": {},
   "outputs": [],
   "source": [
    "gen_feature_map = { \"0_17\":1, \"18_34\":2, \"35_50\":3, \"50_over\":4 }\n",
    "\n",
    "def get_generation(x):\n",
    "    if np.isnan(x):\n",
    "        return x\n",
    "    # Generation Z (iGeneration)\n",
    "    elif x < 18:\n",
    "        return gen_feature_map[\"0_17\"]\n",
    "    # Generation Y (Millennials)\n",
    "    elif x >= 18 and x < 35:\n",
    "        return gen_feature_map[\"18_34\"]\n",
    "    # Generation X\n",
    "    elif x >= 35 and x < 50:\n",
    "        return gen_feature_map[\"35_50\"]\n",
    "    # Baby Boomers Generation\n",
    "    elif x >= 50:\n",
    "        return gen_feature_map[\"50_over\"]\n",
    "        \n",
    "df_ds[\"age_gen\"] = df_ds[\"age\"].apply(get_generation)"
   ]
  },
  {
   "cell_type": "markdown",
   "metadata": {},
   "source": [
    "### Remove unplausible datapoints"
   ]
  },
  {
   "cell_type": "code",
   "execution_count": 14,
   "metadata": {},
   "outputs": [],
   "source": [
    "# Remove all schufa-informations before year 2000 and after year 2018\n",
    "df_ds = df_ds[df_ds[\"date\"].dt.year >= 2000]\n",
    "df_ds = df_ds[df_ds[\"date\"].dt.year <= 2018]"
   ]
  },
  {
   "cell_type": "code",
   "execution_count": 15,
   "metadata": {
    "scrolled": false
   },
   "outputs": [
    {
     "data": {
      "text/plain": [
       "2018    51167\n",
       "2017    11082\n",
       "2016     2110\n",
       "2015     1129\n",
       "2014      869\n",
       "2013      665\n",
       "2012      642\n",
       "2011      637\n",
       "2010      488\n",
       "2009      388\n",
       "2008      271\n",
       "2007      270\n",
       "2006      208\n",
       "2005      153\n",
       "2004      125\n",
       "2003       83\n",
       "2002       63\n",
       "2001       53\n",
       "2000       49\n",
       "Name: date, dtype: int64"
      ]
     },
     "execution_count": 15,
     "metadata": {},
     "output_type": "execute_result"
    }
   ],
   "source": [
    "df_ds[\"date\"].dt.year.value_counts()"
   ]
  },
  {
   "cell_type": "markdown",
   "metadata": {},
   "source": [
    "## Score Features\n",
    "### Remove unplausible datapoints"
   ]
  },
  {
   "cell_type": "code",
   "execution_count": 16,
   "metadata": {},
   "outputs": [
    {
     "data": {
      "text/plain": [
       "A    13571\n",
       "B    10575\n",
       "D     5110\n",
       "C     4872\n",
       "E     4628\n",
       "G     4609\n",
       "F     4599\n",
       "H     2338\n",
       "I     1032\n",
       "M      964\n",
       "L      624\n",
       "K      602\n",
       "N      282\n",
       "P      209\n",
       "O      198\n",
       "S        3\n",
       "V        3\n",
       "U        2\n",
       "R        2\n",
       "T        1\n",
       "Name: level, dtype: int64"
      ]
     },
     "execution_count": 16,
     "metadata": {},
     "output_type": "execute_result"
    }
   ],
   "source": [
    "df_ds[\"level\"].value_counts()"
   ]
  },
  {
   "cell_type": "code",
   "execution_count": 17,
   "metadata": {},
   "outputs": [],
   "source": [
    "only_valid = np.all(\n",
    "    [df_ds[\"level\"]!='V', \n",
    "     df_ds[\"level\"]!='U',\n",
    "     df_ds[\"level\"]!='S',\n",
    "     df_ds[\"level\"]!='T',\n",
    "     df_ds[\"level\"]!='R'],\n",
    "    axis=0)\n",
    "df_ds = df_ds[only_valid]"
   ]
  },
  {
   "cell_type": "code",
   "execution_count": 18,
   "metadata": {},
   "outputs": [],
   "source": [
    "# Remove observations with negative features\n",
    "only_positive = np.all(\n",
    "    [df_ds[\"level\"]!='N', \n",
    "     df_ds[\"level\"]!='O',\n",
    "     df_ds[\"level\"]!='P'],\n",
    "    axis=0)\n",
    "df_ds = df_ds[only_positive]"
   ]
  },
  {
   "cell_type": "code",
   "execution_count": 19,
   "metadata": {},
   "outputs": [
    {
     "data": {
      "text/plain": [
       "A    13571\n",
       "B    10575\n",
       "D     5110\n",
       "C     4872\n",
       "E     4628\n",
       "G     4609\n",
       "F     4599\n",
       "H     2338\n",
       "I     1032\n",
       "M      964\n",
       "L      624\n",
       "K      602\n",
       "Name: level, dtype: int64"
      ]
     },
     "execution_count": 19,
     "metadata": {},
     "output_type": "execute_result"
    }
   ],
   "source": [
    "df_ds[\"level\"].value_counts()"
   ]
  },
  {
   "cell_type": "code",
   "execution_count": 20,
   "metadata": {},
   "outputs": [
    {
     "data": {
      "text/plain": [
       "(2597,)"
      ]
     },
     "execution_count": 20,
     "metadata": {},
     "output_type": "execute_result"
    }
   ],
   "source": [
    "# Cases after cleaning\n",
    "df_ds.id.unique().shape"
   ]
  },
  {
   "cell_type": "code",
   "execution_count": 21,
   "metadata": {},
   "outputs": [],
   "source": [
    "df_ds.to_csv(data_path + \"datasets_v2/20190703_dataset.csv\", index=False, sep=\";\")"
   ]
  },
  {
   "cell_type": "markdown",
   "metadata": {},
   "source": [
    "## SCHUFA Auskunft Features\n",
    "### Analyse SCHUFA Features and find further or more distinct features"
   ]
  },
  {
   "cell_type": "code",
   "execution_count": 22,
   "metadata": {},
   "outputs": [],
   "source": [
    "table2 = df_ds[df_ds[\"table\"]==\"table2\"]"
   ]
  },
  {
   "cell_type": "code",
   "execution_count": 23,
   "metadata": {},
   "outputs": [],
   "source": [
    "# Count the requests per person\n",
    "amount_requests = df_ds[df_ds[\"table\"]==\"table1\"].groupby(\"id\")[\"table\"].count()\n",
    "amount_requests.name = \"request\"\n",
    "\n",
    "# Count the text information feature per person\n",
    "amount_feature = df_ds[df_ds[\"table\"]==\"text\"].groupby(\"id\")[\"feature\"].value_counts().unstack()\n",
    "\n",
    "# Join both feature sets with our dataset\n",
    "table2 = table2.join(amount_requests, on=\"id\")\n",
    "table2 = table2.join(amount_feature, on=\"id\")"
   ]
  },
  {
   "cell_type": "code",
   "execution_count": 24,
   "metadata": {},
   "outputs": [],
   "source": [
    "texts = df_ds[df_ds[\"table\"]==\"text\"]"
   ]
  },
  {
   "cell_type": "code",
   "execution_count": 25,
   "metadata": {
    "scrolled": false
   },
   "outputs": [
    {
     "data": {
      "text/plain": [
       "giro                          3260\n",
       "credit_card                   2198\n",
       "solvency                      2017\n",
       "conditions                    1290\n",
       "telecom                       1053\n",
       "identity                       856\n",
       "unsecured_loan                 504\n",
       "secured_loan                   431\n",
       "business_relation              259\n",
       "banking_connection             209\n",
       "global_credit                  134\n",
       "rent_request                    38\n",
       "address_update                  23\n",
       "insufficient_assets             21\n",
       "undisclosed_assets              16\n",
       "seizure_protection_account      14\n",
       "line_of_credit                  12\n",
       "mail_order                      11\n",
       "debt_collection                 11\n",
       "business_giro                    8\n",
       "business_credit_card             7\n",
       "debt_relief                      6\n",
       "lease_purchase                   4\n",
       "settlement_account               1\n",
       "permanent_account                1\n",
       "rent_signed                      1\n",
       "Name: feature, dtype: int64"
      ]
     },
     "execution_count": 25,
     "metadata": {},
     "output_type": "execute_result"
    }
   ],
   "source": [
    "texts[\"feature\"].value_counts()"
   ]
  },
  {
   "cell_type": "code",
   "execution_count": 26,
   "metadata": {},
   "outputs": [
    {
     "data": {
      "text/plain": [
       "Index(['id', 'date', 'table', 'customer', 'feature', 'domain', 'version',\n",
       "       'score', 'value', 'level', 'meaning', 'stoerung', 'kredit_jahr',\n",
       "       'kredit_nutzung', 'kredit_historie', 'allgemein', 'anschrift',\n",
       "       'all_columns_text', 'activeLoanAmount', 'admonition', 'cashing',\n",
       "       'employment', 'executionProceedings', 'familyStatus', 'housing',\n",
       "       'insolvencyProceedings', 'mailOrder', 'migrationBackground',\n",
       "       'monthlyIncome', 'numberOfActiveLoans', 'numberOfChildren',\n",
       "       'numberOfCreditCards', 'numberOfGiroAccounts',\n",
       "       'numberOfMobileContracts', 'numberOfPaidOffLoans', 'paidOffLoanAmount',\n",
       "       'plz', 'relocation', 'schufaDate', 'sex', 'yearOfBirth', 'foreigner',\n",
       "       'basisscore', 'plz_one', 'east_west', 'age', 'age_class', 'age_gen',\n",
       "       'request', 'address_update', 'banking_connection',\n",
       "       'business_credit_card', 'business_giro', 'business_relation',\n",
       "       'conditions', 'credit_card', 'debt_collection', 'debt_relief', 'giro',\n",
       "       'global_credit', 'identity', 'insufficient_assets', 'lease_purchase',\n",
       "       'line_of_credit', 'mail_order', 'permanent_account', 'rent_request',\n",
       "       'rent_signed', 'secured_loan', 'seizure_protection_account',\n",
       "       'settlement_account', 'solvency', 'telecom', 'undisclosed_assets',\n",
       "       'unsecured_loan'],\n",
       "      dtype='object')"
      ]
     },
     "execution_count": 26,
     "metadata": {},
     "output_type": "execute_result"
    }
   ],
   "source": [
    "table2.columns"
   ]
  },
  {
   "cell_type": "code",
   "execution_count": 27,
   "metadata": {},
   "outputs": [
    {
     "data": {
      "text/plain": [
       "giro                          1223\n",
       "request                        981\n",
       "credit_card                    978\n",
       "solvency                       733\n",
       "telecom                        550\n",
       "identity                       423\n",
       "conditions                     277\n",
       "unsecured_loan                 208\n",
       "secured_loan                   176\n",
       "business_relation              123\n",
       "banking_connection             111\n",
       "global_credit                   85\n",
       "rent_request                    22\n",
       "address_update                  10\n",
       "mail_order                       6\n",
       "line_of_credit                   6\n",
       "business_credit_card             6\n",
       "business_giro                    5\n",
       "debt_collection                  4\n",
       "seizure_protection_account       4\n",
       "debt_relief                      3\n",
       "lease_purchase                   3\n",
       "undisclosed_assets               2\n",
       "permanent_account                1\n",
       "insufficient_assets              1\n",
       "settlement_account               0\n",
       "rent_signed                      0\n",
       "dtype: int64"
      ]
     },
     "execution_count": 27,
     "metadata": {},
     "output_type": "execute_result"
    }
   ],
   "source": [
    "table2[(table2.domain==\"Banken\")&(table2.version==3.)].iloc[:, -27:].count().sort_values(ascending=False)"
   ]
  },
  {
   "cell_type": "markdown",
   "metadata": {},
   "source": [
    "Features to be removed:\n",
    "- rent_signed -> too few observations\n",
    "- settlement_account -> too few observations & negative feature\n",
    "- insurance_account -> too few observations\n",
    "- permanent_account -> too few observations\n",
    "- undisclosed_assets -> negative feature\n",
    "- lease_purchase -> too few observations\n",
    "- debt_relief -> too few observations & negative feature\n",
    "- seizure_protection_account -> negative feature\n",
    "- debt_collection -> negative feature\n",
    "- business_giro -> too few observations\n",
    "- business_credit_card -> too few observations\n",
    "- line_of_credit -> too few observations\n",
    "- mail_order -> too few observations\n",
    "- address_update -> too few observations\n",
    "- rent_request -> too few observations\n",
    "- phone_data -> too few observations\n",
    "- insufficient_assets -> negative feature\n",
    "\n",
    "(The negative features seem to be \"soft\" negative features, here we should test their relevance)\n",
    "=> Negative features are going to be included for now\n"
   ]
  },
  {
   "cell_type": "code",
   "execution_count": 28,
   "metadata": {},
   "outputs": [
    {
     "data": {
      "text/plain": [
       "Index(['request', 'address_update', 'banking_connection',\n",
       "       'business_credit_card', 'business_giro', 'business_relation',\n",
       "       'conditions', 'credit_card', 'debt_collection', 'debt_relief', 'giro',\n",
       "       'global_credit', 'identity', 'insufficient_assets', 'lease_purchase',\n",
       "       'line_of_credit', 'mail_order', 'permanent_account', 'rent_request',\n",
       "       'rent_signed', 'secured_loan', 'seizure_protection_account',\n",
       "       'settlement_account', 'solvency', 'telecom', 'undisclosed_assets',\n",
       "       'unsecured_loan'],\n",
       "      dtype='object')"
      ]
     },
     "execution_count": 28,
     "metadata": {},
     "output_type": "execute_result"
    }
   ],
   "source": [
    "table2.columns[-27:]"
   ]
  },
  {
   "cell_type": "code",
   "execution_count": 29,
   "metadata": {},
   "outputs": [],
   "source": [
    "table2.iloc[:, -27:] = table2.iloc[:, -27:].fillna(0)"
   ]
  },
  {
   "cell_type": "code",
   "execution_count": 30,
   "metadata": {},
   "outputs": [],
   "source": [
    "# We want do aggregation because we don't know the information the variables encode\n",
    "# Hence we just remove people with attributes greater 0, thus controling for this information in the data\n",
    "\"\"\"table2[\"giro_aggr\"] = table2[[\"business_giro\", \"giro\"]].sum(axis=1)\n",
    "table2[\"credit_card_aggr\"] = table2[[\"business_credit_card\", \"credit_card\"]].sum(axis=1)\n",
    "table2[\"credit_aggr\"] = table2[[\"line_of_credit\", \"global_credit\"]].sum(axis=1)\"\"\"\n",
    "\n",
    "too_few = [\"rent_signed\", \"settlement_account\", \"permanent_account\",\n",
    "           \"undisclosed_assets\", \"lease_purchase\", \"debt_relief\", \"seizure_protection_account\",\n",
    "           \"debt_collection\", \"business_giro\", \"business_credit_card\", \"line_of_credit\",\n",
    "           \"mail_order\", \"address_update\", \"rent_request\", \"insufficient_assets\"]\n",
    "            # insurance_account, phone_data\n",
    "\n",
    "table2_outliers = table2.copy()\n",
    "\n",
    "for feat in too_few:\n",
    "    table2 = table2[table2[feat]==0]"
   ]
  },
  {
   "cell_type": "code",
   "execution_count": 31,
   "metadata": {},
   "outputs": [
    {
     "data": {
      "text/plain": [
       "rent_signed                   0.0\n",
       "settlement_account            0.0\n",
       "permanent_account             0.0\n",
       "undisclosed_assets            0.0\n",
       "lease_purchase                0.0\n",
       "debt_relief                   0.0\n",
       "seizure_protection_account    0.0\n",
       "debt_collection               0.0\n",
       "business_giro                 0.0\n",
       "business_credit_card          0.0\n",
       "line_of_credit                0.0\n",
       "mail_order                    0.0\n",
       "address_update                0.0\n",
       "rent_request                  0.0\n",
       "insufficient_assets           0.0\n",
       "dtype: float64"
      ]
     },
     "execution_count": 31,
     "metadata": {},
     "output_type": "execute_result"
    }
   ],
   "source": [
    "table2[too_few].sum()"
   ]
  },
  {
   "cell_type": "code",
   "execution_count": 32,
   "metadata": {},
   "outputs": [
    {
     "data": {
      "text/plain": [
       "Index(['id', 'date', 'table', 'customer', 'feature', 'domain', 'version',\n",
       "       'score', 'value', 'level', 'meaning', 'stoerung', 'kredit_jahr',\n",
       "       'kredit_nutzung', 'kredit_historie', 'allgemein', 'anschrift',\n",
       "       'all_columns_text', 'activeLoanAmount', 'admonition', 'cashing',\n",
       "       'employment', 'executionProceedings', 'familyStatus', 'housing',\n",
       "       'insolvencyProceedings', 'mailOrder', 'migrationBackground',\n",
       "       'monthlyIncome', 'numberOfActiveLoans', 'numberOfChildren',\n",
       "       'numberOfCreditCards', 'numberOfGiroAccounts',\n",
       "       'numberOfMobileContracts', 'numberOfPaidOffLoans', 'paidOffLoanAmount',\n",
       "       'plz', 'relocation', 'schufaDate', 'sex', 'yearOfBirth', 'foreigner',\n",
       "       'basisscore', 'plz_one', 'east_west', 'age', 'age_class', 'age_gen',\n",
       "       'request', 'banking_connection', 'business_relation', 'conditions',\n",
       "       'credit_card', 'giro', 'global_credit', 'identity', 'secured_loan',\n",
       "       'solvency', 'telecom', 'unsecured_loan'],\n",
       "      dtype='object')"
      ]
     },
     "execution_count": 32,
     "metadata": {},
     "output_type": "execute_result"
    }
   ],
   "source": [
    "table2.drop(too_few, axis=1, inplace=True)\n",
    "table2.columns"
   ]
  },
  {
   "cell_type": "code",
   "execution_count": 33,
   "metadata": {},
   "outputs": [
    {
     "data": {
      "text/plain": [
       "((46451, 60), (48491, 75), (2136,), (2240,))"
      ]
     },
     "execution_count": 33,
     "metadata": {},
     "output_type": "execute_result"
    }
   ],
   "source": [
    "table2.shape, table2_outliers.shape, table2.id.unique().shape, table2_outliers.id.unique().shape"
   ]
  },
  {
   "cell_type": "markdown",
   "metadata": {},
   "source": [
    "### create new count features\n",
    "We want to create a feature for each branche that counts amount of text-requests and amount of score-requests"
   ]
  },
  {
   "cell_type": "code",
   "execution_count": 34,
   "metadata": {},
   "outputs": [],
   "source": [
    "# score-requests\n",
    "#amount_requests = df_ds[df_ds[\"table\"]==\"table1\"].groupby(\"id\")[\"table\"].count()\n",
    "#amount_requests.name = \"request\"\n",
    "\n",
    "amount_branche_scores = df_ds[df_ds.table==\"table1\"].groupby(\"id\")[\"domain\"].value_counts().unstack()\n",
    "\n",
    "amount_branche_scores.columns = amount_branche_scores.columns + \"_req\"\n",
    "\n",
    "amount_branche_scores = amount_branche_scores.fillna(0)\n",
    "\n",
    "table2 = table2.join(amount_branche_scores, on=\"id\")"
   ]
  },
  {
   "cell_type": "code",
   "execution_count": 35,
   "metadata": {},
   "outputs": [
    {
     "data": {
      "text/html": [
       "<div>\n",
       "<style scoped>\n",
       "    .dataframe tbody tr th:only-of-type {\n",
       "        vertical-align: middle;\n",
       "    }\n",
       "\n",
       "    .dataframe tbody tr th {\n",
       "        vertical-align: top;\n",
       "    }\n",
       "\n",
       "    .dataframe thead th {\n",
       "        text-align: right;\n",
       "    }\n",
       "</style>\n",
       "<table border=\"1\" class=\"dataframe\">\n",
       "  <thead>\n",
       "    <tr style=\"text-align: right;\">\n",
       "      <th></th>\n",
       "      <th>feature</th>\n",
       "      <th>domain</th>\n",
       "    </tr>\n",
       "  </thead>\n",
       "  <tbody>\n",
       "    <tr>\n",
       "      <th>61126</th>\n",
       "      <td>solvency</td>\n",
       "      <td>NaN</td>\n",
       "    </tr>\n",
       "    <tr>\n",
       "      <th>61130</th>\n",
       "      <td>solvency</td>\n",
       "      <td>NaN</td>\n",
       "    </tr>\n",
       "    <tr>\n",
       "      <th>61136</th>\n",
       "      <td>solvency</td>\n",
       "      <td>NaN</td>\n",
       "    </tr>\n",
       "    <tr>\n",
       "      <th>61171</th>\n",
       "      <td>solvency</td>\n",
       "      <td>NaN</td>\n",
       "    </tr>\n",
       "    <tr>\n",
       "      <th>61173</th>\n",
       "      <td>solvency</td>\n",
       "      <td>NaN</td>\n",
       "    </tr>\n",
       "  </tbody>\n",
       "</table>\n",
       "</div>"
      ],
      "text/plain": [
       "        feature domain\n",
       "61126  solvency    NaN\n",
       "61130  solvency    NaN\n",
       "61136  solvency    NaN\n",
       "61171  solvency    NaN\n",
       "61173  solvency    NaN"
      ]
     },
     "execution_count": 35,
     "metadata": {},
     "output_type": "execute_result"
    }
   ],
   "source": [
    "# On the example of solvency we can see that its not trivial to map the request to a domain..\n",
    "# (we would need to create a map from each customer to a schufa-domain/branche)\n",
    "# => we will drop this kind of feature because of time resources\n",
    "texts[texts.feature==\"solvency\"][[\"feature\", \"domain\"]].head()"
   ]
  },
  {
   "cell_type": "code",
   "execution_count": 36,
   "metadata": {},
   "outputs": [
    {
     "data": {
      "text/plain": [
       "Index(['id', 'date', 'table', 'customer', 'feature', 'domain', 'version',\n",
       "       'score', 'value', 'level', 'meaning', 'stoerung', 'kredit_jahr',\n",
       "       'kredit_nutzung', 'kredit_historie', 'allgemein', 'anschrift',\n",
       "       'all_columns_text', 'activeLoanAmount', 'admonition', 'cashing',\n",
       "       'employment', 'executionProceedings', 'familyStatus', 'housing',\n",
       "       'insolvencyProceedings', 'mailOrder', 'migrationBackground',\n",
       "       'monthlyIncome', 'numberOfActiveLoans', 'numberOfChildren',\n",
       "       'numberOfCreditCards', 'numberOfGiroAccounts',\n",
       "       'numberOfMobileContracts', 'numberOfPaidOffLoans', 'paidOffLoanAmount',\n",
       "       'plz', 'relocation', 'schufaDate', 'sex', 'yearOfBirth', 'foreigner',\n",
       "       'basisscore', 'plz_one', 'east_west', 'age', 'age_class', 'age_gen',\n",
       "       'request', 'banking_connection', 'business_relation', 'conditions',\n",
       "       'credit_card', 'giro', 'global_credit', 'identity', 'secured_loan',\n",
       "       'solvency', 'telecom', 'unsecured_loan', 'Banken_req',\n",
       "       'Freiberufler_req', 'Genossenschaftsbanken_req', 'Handel_req',\n",
       "       'Hypothekengeschäft_req', 'Kleingewerbetreibende_req', 'Sparkassen_req',\n",
       "       'Sparkassen/Genossenschaftsbanken_req',\n",
       "       'Telekommunikationsunternehmen_req', 'Versandhandel_req'],\n",
       "      dtype='object')"
      ]
     },
     "execution_count": 36,
     "metadata": {},
     "output_type": "execute_result"
    }
   ],
   "source": [
    "table2.columns"
   ]
  },
  {
   "cell_type": "markdown",
   "metadata": {},
   "source": [
    "### create features about the time since first contact to finance products\n",
    "we want the time (in days) since a person had first contact to finance products such as credit-cards, giro accounts, credit-loan. To do that we will take the date of the text-request and count the days till the date of the schufa-auskunft."
   ]
  },
  {
   "cell_type": "code",
   "execution_count": 37,
   "metadata": {},
   "outputs": [
    {
     "name": "stderr",
     "output_type": "stream",
     "text": [
      "/home/phil/anaconda3/lib/python3.7/site-packages/ipykernel_launcher.py:1: SettingWithCopyWarning: \n",
      "A value is trying to be set on a copy of a slice from a DataFrame.\n",
      "Try using .loc[row_indexer,col_indexer] = value instead\n",
      "\n",
      "See the caveats in the documentation: http://pandas.pydata.org/pandas-docs/stable/indexing.html#indexing-view-versus-copy\n",
      "  \"\"\"Entry point for launching an IPython kernel.\n"
     ]
    }
   ],
   "source": [
    "texts[\"schufaDate\"] = texts[\"schufaDate\"].apply(lambda x: pd.Timestamp(x))"
   ]
  },
  {
   "cell_type": "code",
   "execution_count": 38,
   "metadata": {},
   "outputs": [],
   "source": [
    "ids = texts.id.unique()"
   ]
  },
  {
   "cell_type": "code",
   "execution_count": 39,
   "metadata": {},
   "outputs": [
    {
     "data": {
      "text/plain": [
       "nan"
      ]
     },
     "execution_count": 39,
     "metadata": {},
     "output_type": "execute_result"
    }
   ],
   "source": [
    "init_col = np.zeros(len(ids))\n",
    "init_col[:] = np.nan\n",
    "dict_df = {\"credit_days\":init_col, \"credit_card_days\":init_col, \"giro_days\":init_col}\n",
    "temp_df = pd.DataFrame.from_dict(dict_df)\n",
    "temp_df.index = ids\n",
    "temp_df.loc[ids[0]][\"giro_days\"]"
   ]
  },
  {
   "cell_type": "code",
   "execution_count": 40,
   "metadata": {},
   "outputs": [
    {
     "data": {
      "text/plain": [
       "giro                          3260\n",
       "credit_card                   2198\n",
       "solvency                      2017\n",
       "conditions                    1290\n",
       "telecom                       1053\n",
       "identity                       856\n",
       "unsecured_loan                 504\n",
       "secured_loan                   431\n",
       "business_relation              259\n",
       "banking_connection             209\n",
       "global_credit                  134\n",
       "rent_request                    38\n",
       "address_update                  23\n",
       "insufficient_assets             21\n",
       "undisclosed_assets              16\n",
       "seizure_protection_account      14\n",
       "line_of_credit                  12\n",
       "mail_order                      11\n",
       "debt_collection                 11\n",
       "business_giro                    8\n",
       "business_credit_card             7\n",
       "debt_relief                      6\n",
       "lease_purchase                   4\n",
       "settlement_account               1\n",
       "permanent_account                1\n",
       "rent_signed                      1\n",
       "Name: feature, dtype: int64"
      ]
     },
     "execution_count": 40,
     "metadata": {},
     "output_type": "execute_result"
    }
   ],
   "source": [
    "texts.feature.value_counts()"
   ]
  },
  {
   "cell_type": "code",
   "execution_count": 41,
   "metadata": {},
   "outputs": [
    {
     "data": {
      "text/plain": [
       "61105   2004-04-29\n",
       "61106   2016-01-25\n",
       "61107   2017-09-13\n",
       "61108   2017-09-18\n",
       "61109   2017-09-26\n",
       "61110   2017-09-27\n",
       "61111   2017-09-27\n",
       "61112   2018-04-01\n",
       "Name: date, dtype: datetime64[ns]"
      ]
     },
     "execution_count": 41,
     "metadata": {},
     "output_type": "execute_result"
    }
   ],
   "source": [
    "texts.groupby(\"id\").get_group(ids[0]).sort_values(\"date\").date"
   ]
  },
  {
   "cell_type": "code",
   "execution_count": 42,
   "metadata": {},
   "outputs": [],
   "source": [
    "giro_d = []\n",
    "credit_c_d = []\n",
    "credit_d = []\n",
    "\n",
    "def days_finance(df):\n",
    "    has_giro = False\n",
    "    has_credit = False\n",
    "    has_credit_card = False\n",
    "    for idx, row in df.sort_values(\"date\").iterrows():\n",
    "        if not has_giro and (row[\"feature\"] == \"giro\" or row[\"feature\"] == \"business_giro\"):\n",
    "            has_giro = True\n",
    "            giro_d.append((row[\"schufaDate\"] - row[\"date\"]).days)\n",
    "        elif not has_credit_card and (row[\"feature\"] == \"credit_card\" or row[\"feature\"] == \"business_credit_card\"):\n",
    "            has_credit_card = True\n",
    "            credit_c_d.append((row[\"schufaDate\"] - row[\"date\"]).days)\n",
    "        elif not has_credit and (row[\"feature\"] == \"global_credit\" or row[\"feature\"] == \"line_of_credit\" or row[\"feature\"] == \"permanent_account\" or row[\"feature\"] == \"secured_loan\" or row[\"feature\"] == \"unsecured_loan\"):\n",
    "            has_credit = True\n",
    "            credit_d.append((row[\"schufaDate\"] - row[\"date\"]).days)\n",
    "        else:\n",
    "            continue\n",
    "    if not has_giro:\n",
    "        giro_d.append(np.nan)\n",
    "    if not has_credit:\n",
    "        credit_d.append(np.nan)\n",
    "    if not has_credit_card:\n",
    "        credit_c_d.append(np.nan)            \n",
    "    return None\n",
    "        \n",
    "texts.groupby(\"id\").apply(days_finance);"
   ]
  },
  {
   "cell_type": "code",
   "execution_count": 43,
   "metadata": {},
   "outputs": [],
   "source": [
    "temp_df[\"credit_card_days\"] = credit_c_d[1:]\n",
    "temp_df[\"credit_days\"] = credit_d[1:]\n",
    "temp_df[\"giro_days\"] = giro_d[1:]"
   ]
  },
  {
   "cell_type": "code",
   "execution_count": 44,
   "metadata": {},
   "outputs": [
    {
     "data": {
      "text/plain": [
       "61105   5142 days\n",
       "61106    854 days\n",
       "61107    257 days\n",
       "61108    252 days\n",
       "61109    244 days\n",
       "61110    243 days\n",
       "61111    243 days\n",
       "61112     57 days\n",
       "dtype: timedelta64[ns]"
      ]
     },
     "execution_count": 44,
     "metadata": {},
     "output_type": "execute_result"
    }
   ],
   "source": [
    "texts[texts.id == ids[0]][\"schufaDate\"] - texts[texts.id == ids[0]][\"date\"] # .days to retrieve integer"
   ]
  },
  {
   "cell_type": "code",
   "execution_count": 45,
   "metadata": {},
   "outputs": [],
   "source": [
    "temp_df = temp_df.fillna(0)"
   ]
  },
  {
   "cell_type": "code",
   "execution_count": 46,
   "metadata": {},
   "outputs": [],
   "source": [
    "table2 = table2.join(temp_df, on=\"id\")"
   ]
  },
  {
   "cell_type": "code",
   "execution_count": 47,
   "metadata": {},
   "outputs": [
    {
     "data": {
      "text/html": [
       "<div>\n",
       "<style scoped>\n",
       "    .dataframe tbody tr th:only-of-type {\n",
       "        vertical-align: middle;\n",
       "    }\n",
       "\n",
       "    .dataframe tbody tr th {\n",
       "        vertical-align: top;\n",
       "    }\n",
       "\n",
       "    .dataframe thead th {\n",
       "        text-align: right;\n",
       "    }\n",
       "</style>\n",
       "<table border=\"1\" class=\"dataframe\">\n",
       "  <thead>\n",
       "    <tr style=\"text-align: right;\">\n",
       "      <th></th>\n",
       "      <th>level</th>\n",
       "      <th>credit_card_days</th>\n",
       "      <th>credit_days</th>\n",
       "      <th>giro_days</th>\n",
       "    </tr>\n",
       "  </thead>\n",
       "  <tbody>\n",
       "    <tr>\n",
       "      <th>9</th>\n",
       "      <td>A</td>\n",
       "      <td>854.0</td>\n",
       "      <td>0.0</td>\n",
       "      <td>5142.0</td>\n",
       "    </tr>\n",
       "    <tr>\n",
       "      <th>59</th>\n",
       "      <td>G</td>\n",
       "      <td>4943.0</td>\n",
       "      <td>2636.0</td>\n",
       "      <td>5041.0</td>\n",
       "    </tr>\n",
       "    <tr>\n",
       "      <th>93</th>\n",
       "      <td>A</td>\n",
       "      <td>NaN</td>\n",
       "      <td>NaN</td>\n",
       "      <td>NaN</td>\n",
       "    </tr>\n",
       "    <tr>\n",
       "      <th>119</th>\n",
       "      <td>F</td>\n",
       "      <td>1385.0</td>\n",
       "      <td>0.0</td>\n",
       "      <td>2466.0</td>\n",
       "    </tr>\n",
       "    <tr>\n",
       "      <th>148</th>\n",
       "      <td>A</td>\n",
       "      <td>1851.0</td>\n",
       "      <td>0.0</td>\n",
       "      <td>0.0</td>\n",
       "    </tr>\n",
       "    <tr>\n",
       "      <th>174</th>\n",
       "      <td>A</td>\n",
       "      <td>0.0</td>\n",
       "      <td>0.0</td>\n",
       "      <td>5081.0</td>\n",
       "    </tr>\n",
       "    <tr>\n",
       "      <th>205</th>\n",
       "      <td>C</td>\n",
       "      <td>116.0</td>\n",
       "      <td>0.0</td>\n",
       "      <td>3649.0</td>\n",
       "    </tr>\n",
       "    <tr>\n",
       "      <th>255</th>\n",
       "      <td>L</td>\n",
       "      <td>NaN</td>\n",
       "      <td>NaN</td>\n",
       "      <td>NaN</td>\n",
       "    </tr>\n",
       "    <tr>\n",
       "      <th>312</th>\n",
       "      <td>B</td>\n",
       "      <td>575.0</td>\n",
       "      <td>0.0</td>\n",
       "      <td>878.0</td>\n",
       "    </tr>\n",
       "    <tr>\n",
       "      <th>342</th>\n",
       "      <td>NaN</td>\n",
       "      <td>0.0</td>\n",
       "      <td>2399.0</td>\n",
       "      <td>1809.0</td>\n",
       "    </tr>\n",
       "    <tr>\n",
       "      <th>387</th>\n",
       "      <td>B</td>\n",
       "      <td>NaN</td>\n",
       "      <td>NaN</td>\n",
       "      <td>NaN</td>\n",
       "    </tr>\n",
       "    <tr>\n",
       "      <th>416</th>\n",
       "      <td>F</td>\n",
       "      <td>633.0</td>\n",
       "      <td>5669.0</td>\n",
       "      <td>0.0</td>\n",
       "    </tr>\n",
       "    <tr>\n",
       "      <th>461</th>\n",
       "      <td>K</td>\n",
       "      <td>0.0</td>\n",
       "      <td>0.0</td>\n",
       "      <td>4133.0</td>\n",
       "    </tr>\n",
       "    <tr>\n",
       "      <th>487</th>\n",
       "      <td>B</td>\n",
       "      <td>1603.0</td>\n",
       "      <td>2297.0</td>\n",
       "      <td>4916.0</td>\n",
       "    </tr>\n",
       "    <tr>\n",
       "      <th>512</th>\n",
       "      <td>NaN</td>\n",
       "      <td>NaN</td>\n",
       "      <td>NaN</td>\n",
       "      <td>NaN</td>\n",
       "    </tr>\n",
       "    <tr>\n",
       "      <th>546</th>\n",
       "      <td>F</td>\n",
       "      <td>NaN</td>\n",
       "      <td>NaN</td>\n",
       "      <td>NaN</td>\n",
       "    </tr>\n",
       "    <tr>\n",
       "      <th>564</th>\n",
       "      <td>A</td>\n",
       "      <td>1663.0</td>\n",
       "      <td>0.0</td>\n",
       "      <td>4582.0</td>\n",
       "    </tr>\n",
       "    <tr>\n",
       "      <th>590</th>\n",
       "      <td>H</td>\n",
       "      <td>0.0</td>\n",
       "      <td>0.0</td>\n",
       "      <td>1303.0</td>\n",
       "    </tr>\n",
       "    <tr>\n",
       "      <th>615</th>\n",
       "      <td>B</td>\n",
       "      <td>766.0</td>\n",
       "      <td>0.0</td>\n",
       "      <td>2067.0</td>\n",
       "    </tr>\n",
       "    <tr>\n",
       "      <th>648</th>\n",
       "      <td>G</td>\n",
       "      <td>225.0</td>\n",
       "      <td>0.0</td>\n",
       "      <td>4222.0</td>\n",
       "    </tr>\n",
       "    <tr>\n",
       "      <th>675</th>\n",
       "      <td>B</td>\n",
       "      <td>NaN</td>\n",
       "      <td>NaN</td>\n",
       "      <td>NaN</td>\n",
       "    </tr>\n",
       "    <tr>\n",
       "      <th>726</th>\n",
       "      <td>C</td>\n",
       "      <td>1449.0</td>\n",
       "      <td>1042.0</td>\n",
       "      <td>1448.0</td>\n",
       "    </tr>\n",
       "    <tr>\n",
       "      <th>751</th>\n",
       "      <td>A</td>\n",
       "      <td>3982.0</td>\n",
       "      <td>0.0</td>\n",
       "      <td>4091.0</td>\n",
       "    </tr>\n",
       "    <tr>\n",
       "      <th>776</th>\n",
       "      <td>F</td>\n",
       "      <td>NaN</td>\n",
       "      <td>NaN</td>\n",
       "      <td>NaN</td>\n",
       "    </tr>\n",
       "    <tr>\n",
       "      <th>802</th>\n",
       "      <td>A</td>\n",
       "      <td>3054.0</td>\n",
       "      <td>0.0</td>\n",
       "      <td>4102.0</td>\n",
       "    </tr>\n",
       "    <tr>\n",
       "      <th>826</th>\n",
       "      <td>B</td>\n",
       "      <td>3071.0</td>\n",
       "      <td>0.0</td>\n",
       "      <td>4787.0</td>\n",
       "    </tr>\n",
       "    <tr>\n",
       "      <th>851</th>\n",
       "      <td>A</td>\n",
       "      <td>NaN</td>\n",
       "      <td>NaN</td>\n",
       "      <td>NaN</td>\n",
       "    </tr>\n",
       "    <tr>\n",
       "      <th>886</th>\n",
       "      <td>H</td>\n",
       "      <td>NaN</td>\n",
       "      <td>NaN</td>\n",
       "      <td>NaN</td>\n",
       "    </tr>\n",
       "    <tr>\n",
       "      <th>912</th>\n",
       "      <td>K</td>\n",
       "      <td>0.0</td>\n",
       "      <td>0.0</td>\n",
       "      <td>738.0</td>\n",
       "    </tr>\n",
       "    <tr>\n",
       "      <th>940</th>\n",
       "      <td>B</td>\n",
       "      <td>2151.0</td>\n",
       "      <td>0.0</td>\n",
       "      <td>624.0</td>\n",
       "    </tr>\n",
       "    <tr>\n",
       "      <th>...</th>\n",
       "      <td>...</td>\n",
       "      <td>...</td>\n",
       "      <td>...</td>\n",
       "      <td>...</td>\n",
       "    </tr>\n",
       "    <tr>\n",
       "      <th>60212</th>\n",
       "      <td>B</td>\n",
       "      <td>5221.0</td>\n",
       "      <td>236.0</td>\n",
       "      <td>5220.0</td>\n",
       "    </tr>\n",
       "    <tr>\n",
       "      <th>60242</th>\n",
       "      <td>C</td>\n",
       "      <td>1940.0</td>\n",
       "      <td>0.0</td>\n",
       "      <td>6086.0</td>\n",
       "    </tr>\n",
       "    <tr>\n",
       "      <th>60268</th>\n",
       "      <td>B</td>\n",
       "      <td>2994.0</td>\n",
       "      <td>0.0</td>\n",
       "      <td>3561.0</td>\n",
       "    </tr>\n",
       "    <tr>\n",
       "      <th>60297</th>\n",
       "      <td>B</td>\n",
       "      <td>4560.0</td>\n",
       "      <td>0.0</td>\n",
       "      <td>4570.0</td>\n",
       "    </tr>\n",
       "    <tr>\n",
       "      <th>60330</th>\n",
       "      <td>B</td>\n",
       "      <td>0.0</td>\n",
       "      <td>0.0</td>\n",
       "      <td>4251.0</td>\n",
       "    </tr>\n",
       "    <tr>\n",
       "      <th>60355</th>\n",
       "      <td>D</td>\n",
       "      <td>0.0</td>\n",
       "      <td>0.0</td>\n",
       "      <td>0.0</td>\n",
       "    </tr>\n",
       "    <tr>\n",
       "      <th>60384</th>\n",
       "      <td>A</td>\n",
       "      <td>1913.0</td>\n",
       "      <td>0.0</td>\n",
       "      <td>2599.0</td>\n",
       "    </tr>\n",
       "    <tr>\n",
       "      <th>60413</th>\n",
       "      <td>E</td>\n",
       "      <td>2800.0</td>\n",
       "      <td>0.0</td>\n",
       "      <td>2801.0</td>\n",
       "    </tr>\n",
       "    <tr>\n",
       "      <th>60442</th>\n",
       "      <td>F</td>\n",
       "      <td>NaN</td>\n",
       "      <td>NaN</td>\n",
       "      <td>NaN</td>\n",
       "    </tr>\n",
       "    <tr>\n",
       "      <th>60469</th>\n",
       "      <td>F</td>\n",
       "      <td>0.0</td>\n",
       "      <td>1104.0</td>\n",
       "      <td>2598.0</td>\n",
       "    </tr>\n",
       "    <tr>\n",
       "      <th>60490</th>\n",
       "      <td>A</td>\n",
       "      <td>2669.0</td>\n",
       "      <td>2045.0</td>\n",
       "      <td>0.0</td>\n",
       "    </tr>\n",
       "    <tr>\n",
       "      <th>60516</th>\n",
       "      <td>B</td>\n",
       "      <td>0.0</td>\n",
       "      <td>0.0</td>\n",
       "      <td>0.0</td>\n",
       "    </tr>\n",
       "    <tr>\n",
       "      <th>60542</th>\n",
       "      <td>A</td>\n",
       "      <td>NaN</td>\n",
       "      <td>NaN</td>\n",
       "      <td>NaN</td>\n",
       "    </tr>\n",
       "    <tr>\n",
       "      <th>60569</th>\n",
       "      <td>A</td>\n",
       "      <td>0.0</td>\n",
       "      <td>0.0</td>\n",
       "      <td>4384.0</td>\n",
       "    </tr>\n",
       "    <tr>\n",
       "      <th>60594</th>\n",
       "      <td>A</td>\n",
       "      <td>2489.0</td>\n",
       "      <td>0.0</td>\n",
       "      <td>2490.0</td>\n",
       "    </tr>\n",
       "    <tr>\n",
       "      <th>60620</th>\n",
       "      <td>A</td>\n",
       "      <td>NaN</td>\n",
       "      <td>NaN</td>\n",
       "      <td>NaN</td>\n",
       "    </tr>\n",
       "    <tr>\n",
       "      <th>60650</th>\n",
       "      <td>I</td>\n",
       "      <td>615.0</td>\n",
       "      <td>0.0</td>\n",
       "      <td>2716.0</td>\n",
       "    </tr>\n",
       "    <tr>\n",
       "      <th>60677</th>\n",
       "      <td>D</td>\n",
       "      <td>2807.0</td>\n",
       "      <td>0.0</td>\n",
       "      <td>2808.0</td>\n",
       "    </tr>\n",
       "    <tr>\n",
       "      <th>60703</th>\n",
       "      <td>A</td>\n",
       "      <td>2176.0</td>\n",
       "      <td>0.0</td>\n",
       "      <td>3228.0</td>\n",
       "    </tr>\n",
       "    <tr>\n",
       "      <th>60737</th>\n",
       "      <td>H</td>\n",
       "      <td>0.0</td>\n",
       "      <td>0.0</td>\n",
       "      <td>191.0</td>\n",
       "    </tr>\n",
       "    <tr>\n",
       "      <th>60806</th>\n",
       "      <td>B</td>\n",
       "      <td>4122.0</td>\n",
       "      <td>0.0</td>\n",
       "      <td>4105.0</td>\n",
       "    </tr>\n",
       "    <tr>\n",
       "      <th>60839</th>\n",
       "      <td>H</td>\n",
       "      <td>1157.0</td>\n",
       "      <td>0.0</td>\n",
       "      <td>588.0</td>\n",
       "    </tr>\n",
       "    <tr>\n",
       "      <th>60865</th>\n",
       "      <td>B</td>\n",
       "      <td>0.0</td>\n",
       "      <td>0.0</td>\n",
       "      <td>2323.0</td>\n",
       "    </tr>\n",
       "    <tr>\n",
       "      <th>60905</th>\n",
       "      <td>A</td>\n",
       "      <td>3976.0</td>\n",
       "      <td>0.0</td>\n",
       "      <td>5175.0</td>\n",
       "    </tr>\n",
       "    <tr>\n",
       "      <th>60945</th>\n",
       "      <td>H</td>\n",
       "      <td>NaN</td>\n",
       "      <td>NaN</td>\n",
       "      <td>NaN</td>\n",
       "    </tr>\n",
       "    <tr>\n",
       "      <th>60971</th>\n",
       "      <td>B</td>\n",
       "      <td>0.0</td>\n",
       "      <td>0.0</td>\n",
       "      <td>0.0</td>\n",
       "    </tr>\n",
       "    <tr>\n",
       "      <th>60998</th>\n",
       "      <td>A</td>\n",
       "      <td>1797.0</td>\n",
       "      <td>0.0</td>\n",
       "      <td>2263.0</td>\n",
       "    </tr>\n",
       "    <tr>\n",
       "      <th>61018</th>\n",
       "      <td>E</td>\n",
       "      <td>374.0</td>\n",
       "      <td>0.0</td>\n",
       "      <td>0.0</td>\n",
       "    </tr>\n",
       "    <tr>\n",
       "      <th>61052</th>\n",
       "      <td>E</td>\n",
       "      <td>2432.0</td>\n",
       "      <td>2677.0</td>\n",
       "      <td>6620.0</td>\n",
       "    </tr>\n",
       "    <tr>\n",
       "      <th>61080</th>\n",
       "      <td>A</td>\n",
       "      <td>1529.0</td>\n",
       "      <td>0.0</td>\n",
       "      <td>703.0</td>\n",
       "    </tr>\n",
       "  </tbody>\n",
       "</table>\n",
       "<p>1790 rows × 4 columns</p>\n",
       "</div>"
      ],
      "text/plain": [
       "      level  credit_card_days  credit_days  giro_days\n",
       "9         A             854.0          0.0     5142.0\n",
       "59        G            4943.0       2636.0     5041.0\n",
       "93        A               NaN          NaN        NaN\n",
       "119       F            1385.0          0.0     2466.0\n",
       "148       A            1851.0          0.0        0.0\n",
       "174       A               0.0          0.0     5081.0\n",
       "205       C             116.0          0.0     3649.0\n",
       "255       L               NaN          NaN        NaN\n",
       "312       B             575.0          0.0      878.0\n",
       "342     NaN               0.0       2399.0     1809.0\n",
       "387       B               NaN          NaN        NaN\n",
       "416       F             633.0       5669.0        0.0\n",
       "461       K               0.0          0.0     4133.0\n",
       "487       B            1603.0       2297.0     4916.0\n",
       "512     NaN               NaN          NaN        NaN\n",
       "546       F               NaN          NaN        NaN\n",
       "564       A            1663.0          0.0     4582.0\n",
       "590       H               0.0          0.0     1303.0\n",
       "615       B             766.0          0.0     2067.0\n",
       "648       G             225.0          0.0     4222.0\n",
       "675       B               NaN          NaN        NaN\n",
       "726       C            1449.0       1042.0     1448.0\n",
       "751       A            3982.0          0.0     4091.0\n",
       "776       F               NaN          NaN        NaN\n",
       "802       A            3054.0          0.0     4102.0\n",
       "826       B            3071.0          0.0     4787.0\n",
       "851       A               NaN          NaN        NaN\n",
       "886       H               NaN          NaN        NaN\n",
       "912       K               0.0          0.0      738.0\n",
       "940       B            2151.0          0.0      624.0\n",
       "...     ...               ...          ...        ...\n",
       "60212     B            5221.0        236.0     5220.0\n",
       "60242     C            1940.0          0.0     6086.0\n",
       "60268     B            2994.0          0.0     3561.0\n",
       "60297     B            4560.0          0.0     4570.0\n",
       "60330     B               0.0          0.0     4251.0\n",
       "60355     D               0.0          0.0        0.0\n",
       "60384     A            1913.0          0.0     2599.0\n",
       "60413     E            2800.0          0.0     2801.0\n",
       "60442     F               NaN          NaN        NaN\n",
       "60469     F               0.0       1104.0     2598.0\n",
       "60490     A            2669.0       2045.0        0.0\n",
       "60516     B               0.0          0.0        0.0\n",
       "60542     A               NaN          NaN        NaN\n",
       "60569     A               0.0          0.0     4384.0\n",
       "60594     A            2489.0          0.0     2490.0\n",
       "60620     A               NaN          NaN        NaN\n",
       "60650     I             615.0          0.0     2716.0\n",
       "60677     D            2807.0          0.0     2808.0\n",
       "60703     A            2176.0          0.0     3228.0\n",
       "60737     H               0.0          0.0      191.0\n",
       "60806     B            4122.0          0.0     4105.0\n",
       "60839     H            1157.0          0.0      588.0\n",
       "60865     B               0.0          0.0     2323.0\n",
       "60905     A            3976.0          0.0     5175.0\n",
       "60945     H               NaN          NaN        NaN\n",
       "60971     B               0.0          0.0        0.0\n",
       "60998     A            1797.0          0.0     2263.0\n",
       "61018     E             374.0          0.0        0.0\n",
       "61052     E            2432.0       2677.0     6620.0\n",
       "61080     A            1529.0          0.0      703.0\n",
       "\n",
       "[1790 rows x 4 columns]"
      ]
     },
     "execution_count": 47,
     "metadata": {},
     "output_type": "execute_result"
    }
   ],
   "source": [
    "table2[(table2.version==1)&(table2.domain==\"Banken\")][[\"level\", \"credit_card_days\", \"credit_days\", \"giro_days\"]]"
   ]
  },
  {
   "cell_type": "markdown",
   "metadata": {},
   "source": [
    "#### count text-data that is at most one year old"
   ]
  },
  {
   "cell_type": "code",
   "execution_count": 48,
   "metadata": {},
   "outputs": [
    {
     "data": {
      "text/plain": [
       "nan"
      ]
     },
     "execution_count": 48,
     "metadata": {},
     "output_type": "execute_result"
    }
   ],
   "source": [
    "init_col = np.zeros(len(ids))\n",
    "init_col[:] = np.nan\n",
    "dict_df = {\"finance_year\":init_col}\n",
    "temp_df = pd.DataFrame.from_dict(dict_df)\n",
    "temp_df.index = ids\n",
    "temp_df.loc[ids[0]][\"finance_year\"]"
   ]
  },
  {
   "cell_type": "code",
   "execution_count": 49,
   "metadata": {},
   "outputs": [
    {
     "data": {
      "text/plain": [
       "3"
      ]
     },
     "execution_count": 49,
     "metadata": {},
     "output_type": "execute_result"
    }
   ],
   "source": [
    "tmp = texts.groupby(\"id\").get_group(ids[0])\n",
    "tmp = tmp[(tmp.feature==\"giro\")|(tmp.feature==\"credit_card\")]\n",
    "((tmp.schufaDate - tmp.date).apply(lambda x: x.days) <= 365).sum()"
   ]
  },
  {
   "cell_type": "code",
   "execution_count": 50,
   "metadata": {},
   "outputs": [],
   "source": [
    "year_finance = []\n",
    "\n",
    "def last_year_finance(df):\n",
    "    \n",
    "    finance_feats = df[(df.feature==\"giro\")|\n",
    "                       (df.feature==\"business_giro\")|\n",
    "                       (df.feature==\"credit_card\")|\n",
    "                       (df.feature==\"business_credit_card\")|\n",
    "                       (df.feature==\"global_credit\")|\n",
    "                       (df.feature==\"line_of_credit\")|\n",
    "                       (df.feature==\"permanent_account\")|\n",
    "                       (df.feature==\"secured_loan\")|\n",
    "                       (df.feature==\"unsecured_loan\")]\n",
    "    \n",
    "    if not finance_feats.empty:\n",
    "        diff_days = finance_feats.schufaDate - finance_feats.date\n",
    "        amount_this_year = (diff_days.apply(lambda x: x.days) <= 365).sum()\n",
    "    else:\n",
    "        amount_this_year = 0.0\n",
    "        \n",
    "    year_finance.append(amount_this_year)\n",
    "    \n",
    "    return None\n",
    "        \n",
    "texts.groupby(\"id\").apply(last_year_finance);"
   ]
  },
  {
   "cell_type": "code",
   "execution_count": 51,
   "metadata": {},
   "outputs": [],
   "source": [
    "temp_df[\"finance_year\"] = year_finance[1:]"
   ]
  },
  {
   "cell_type": "code",
   "execution_count": 52,
   "metadata": {},
   "outputs": [],
   "source": [
    "table2 = table2.join(temp_df, on=\"id\")"
   ]
  },
  {
   "cell_type": "markdown",
   "metadata": {},
   "source": [
    "#### preprocess & replace nans with zeros for covariates"
   ]
  },
  {
   "cell_type": "code",
   "execution_count": 54,
   "metadata": {},
   "outputs": [
    {
     "data": {
      "text/plain": [
       "Index(['request', 'banking_connection', 'business_relation', 'conditions',\n",
       "       'credit_card', 'giro', 'global_credit', 'identity', 'secured_loan',\n",
       "       'solvency', 'telecom', 'unsecured_loan', 'Banken_req',\n",
       "       'Freiberufler_req', 'Genossenschaftsbanken_req', 'Handel_req',\n",
       "       'Hypothekengeschäft_req', 'Kleingewerbetreibende_req', 'Sparkassen_req',\n",
       "       'Sparkassen/Genossenschaftsbanken_req',\n",
       "       'Telekommunikationsunternehmen_req', 'Versandhandel_req', 'credit_days',\n",
       "       'credit_card_days', 'giro_days', 'finance_year'],\n",
       "      dtype='object')"
      ]
     },
     "execution_count": 54,
     "metadata": {},
     "output_type": "execute_result"
    }
   ],
   "source": [
    "table2.columns[-26:]"
   ]
  },
  {
   "cell_type": "code",
   "execution_count": 55,
   "metadata": {},
   "outputs": [],
   "source": [
    "table2.iloc[:, -26:] = table2.iloc[:, -26:].fillna(0)"
   ]
  },
  {
   "cell_type": "code",
   "execution_count": 56,
   "metadata": {},
   "outputs": [
    {
     "data": {
      "text/plain": [
       "(2136,)"
      ]
     },
     "execution_count": 56,
     "metadata": {},
     "output_type": "execute_result"
    }
   ],
   "source": [
    "table2.id.unique().shape"
   ]
  },
  {
   "cell_type": "code",
   "execution_count": 57,
   "metadata": {},
   "outputs": [
    {
     "data": {
      "text/plain": [
       "Index(['id', 'date', 'table', 'customer', 'feature', 'domain', 'version',\n",
       "       'score', 'value', 'level', 'meaning', 'stoerung', 'kredit_jahr',\n",
       "       'kredit_nutzung', 'kredit_historie', 'allgemein', 'anschrift',\n",
       "       'all_columns_text', 'activeLoanAmount', 'admonition', 'cashing',\n",
       "       'employment', 'executionProceedings', 'familyStatus', 'housing',\n",
       "       'insolvencyProceedings', 'mailOrder', 'migrationBackground',\n",
       "       'monthlyIncome', 'numberOfActiveLoans', 'numberOfChildren',\n",
       "       'numberOfCreditCards', 'numberOfGiroAccounts',\n",
       "       'numberOfMobileContracts', 'numberOfPaidOffLoans', 'paidOffLoanAmount',\n",
       "       'plz', 'relocation', 'schufaDate', 'sex', 'yearOfBirth', 'foreigner',\n",
       "       'basisscore', 'plz_one', 'east_west', 'age', 'age_class', 'age_gen',\n",
       "       'request', 'banking_connection', 'business_relation', 'conditions',\n",
       "       'credit_card', 'giro', 'global_credit', 'identity', 'secured_loan',\n",
       "       'solvency', 'telecom', 'unsecured_loan', 'Banken_req',\n",
       "       'Freiberufler_req', 'Genossenschaftsbanken_req', 'Handel_req',\n",
       "       'Hypothekengeschäft_req', 'Kleingewerbetreibende_req', 'Sparkassen_req',\n",
       "       'Sparkassen/Genossenschaftsbanken_req',\n",
       "       'Telekommunikationsunternehmen_req', 'Versandhandel_req', 'credit_days',\n",
       "       'credit_card_days', 'giro_days', 'finance_year'],\n",
       "      dtype='object')"
      ]
     },
     "execution_count": 57,
     "metadata": {},
     "output_type": "execute_result"
    }
   ],
   "source": [
    "table2.columns"
   ]
  },
  {
   "cell_type": "code",
   "execution_count": 60,
   "metadata": {},
   "outputs": [],
   "source": [
    "table2.to_csv(data_path + \"datasets_v2/20190703_dataset_table2_analysis.csv\", index=False, sep=\";\")"
   ]
  }
 ],
 "metadata": {
  "kernelspec": {
   "display_name": "Python 3",
   "language": "python",
   "name": "python3"
  },
  "language_info": {
   "codemirror_mode": {
    "name": "ipython",
    "version": 3
   },
   "file_extension": ".py",
   "mimetype": "text/x-python",
   "name": "python",
   "nbconvert_exporter": "python",
   "pygments_lexer": "ipython3",
   "version": "3.7.4"
  }
 },
 "nbformat": 4,
 "nbformat_minor": 2
}
